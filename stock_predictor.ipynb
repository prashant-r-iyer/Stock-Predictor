{
 "cells": [
  {
   "cell_type": "markdown",
   "metadata": {},
   "source": [
    "## Import libraries"
   ]
  },
  {
   "cell_type": "code",
   "execution_count": 24,
   "metadata": {},
   "outputs": [],
   "source": [
    "import yfinance as yf\n",
    "\n",
    "from copy import deepcopy as dc\n",
    "import pandas as pd\n",
    "import numpy as np\n",
    "import matplotlib.pyplot as plt\n",
    "\n",
    "from sklearn.preprocessing import MinMaxScaler\n",
    "\n",
    "import torch\n",
    "import torch.nn as nn\n",
    "from torch.utils.data import Dataset, DataLoader"
   ]
  },
  {
   "cell_type": "markdown",
   "metadata": {},
   "source": [
    "## Download data"
   ]
  },
  {
   "cell_type": "code",
   "execution_count": 25,
   "metadata": {},
   "outputs": [
    {
     "data": {
      "text/html": [
       "<div>\n",
       "<style scoped>\n",
       "    .dataframe tbody tr th:only-of-type {\n",
       "        vertical-align: middle;\n",
       "    }\n",
       "\n",
       "    .dataframe tbody tr th {\n",
       "        vertical-align: top;\n",
       "    }\n",
       "\n",
       "    .dataframe thead th {\n",
       "        text-align: right;\n",
       "    }\n",
       "</style>\n",
       "<table border=\"1\" class=\"dataframe\">\n",
       "  <thead>\n",
       "    <tr style=\"text-align: right;\">\n",
       "      <th></th>\n",
       "      <th>Open</th>\n",
       "      <th>High</th>\n",
       "      <th>Low</th>\n",
       "      <th>Close</th>\n",
       "      <th>Volume</th>\n",
       "      <th>Dividends</th>\n",
       "      <th>Stock Splits</th>\n",
       "    </tr>\n",
       "    <tr>\n",
       "      <th>Date</th>\n",
       "      <th></th>\n",
       "      <th></th>\n",
       "      <th></th>\n",
       "      <th></th>\n",
       "      <th></th>\n",
       "      <th></th>\n",
       "      <th></th>\n",
       "    </tr>\n",
       "  </thead>\n",
       "  <tbody>\n",
       "    <tr>\n",
       "      <th>1997-05-15 00:00:00-04:00</th>\n",
       "      <td>0.121875</td>\n",
       "      <td>0.125000</td>\n",
       "      <td>0.096354</td>\n",
       "      <td>0.097917</td>\n",
       "      <td>1443120000</td>\n",
       "      <td>0.0</td>\n",
       "      <td>0.0</td>\n",
       "    </tr>\n",
       "    <tr>\n",
       "      <th>1997-05-16 00:00:00-04:00</th>\n",
       "      <td>0.098438</td>\n",
       "      <td>0.098958</td>\n",
       "      <td>0.085417</td>\n",
       "      <td>0.086458</td>\n",
       "      <td>294000000</td>\n",
       "      <td>0.0</td>\n",
       "      <td>0.0</td>\n",
       "    </tr>\n",
       "    <tr>\n",
       "      <th>1997-05-19 00:00:00-04:00</th>\n",
       "      <td>0.088021</td>\n",
       "      <td>0.088542</td>\n",
       "      <td>0.081250</td>\n",
       "      <td>0.085417</td>\n",
       "      <td>122136000</td>\n",
       "      <td>0.0</td>\n",
       "      <td>0.0</td>\n",
       "    </tr>\n",
       "    <tr>\n",
       "      <th>1997-05-20 00:00:00-04:00</th>\n",
       "      <td>0.086458</td>\n",
       "      <td>0.087500</td>\n",
       "      <td>0.081771</td>\n",
       "      <td>0.081771</td>\n",
       "      <td>109344000</td>\n",
       "      <td>0.0</td>\n",
       "      <td>0.0</td>\n",
       "    </tr>\n",
       "    <tr>\n",
       "      <th>1997-05-21 00:00:00-04:00</th>\n",
       "      <td>0.081771</td>\n",
       "      <td>0.082292</td>\n",
       "      <td>0.068750</td>\n",
       "      <td>0.071354</td>\n",
       "      <td>377064000</td>\n",
       "      <td>0.0</td>\n",
       "      <td>0.0</td>\n",
       "    </tr>\n",
       "    <tr>\n",
       "      <th>...</th>\n",
       "      <td>...</td>\n",
       "      <td>...</td>\n",
       "      <td>...</td>\n",
       "      <td>...</td>\n",
       "      <td>...</td>\n",
       "      <td>...</td>\n",
       "      <td>...</td>\n",
       "    </tr>\n",
       "    <tr>\n",
       "      <th>2024-06-12 00:00:00-04:00</th>\n",
       "      <td>188.020004</td>\n",
       "      <td>188.350006</td>\n",
       "      <td>185.429993</td>\n",
       "      <td>186.889999</td>\n",
       "      <td>33984200</td>\n",
       "      <td>0.0</td>\n",
       "      <td>0.0</td>\n",
       "    </tr>\n",
       "    <tr>\n",
       "      <th>2024-06-13 00:00:00-04:00</th>\n",
       "      <td>186.089996</td>\n",
       "      <td>187.669998</td>\n",
       "      <td>182.669998</td>\n",
       "      <td>183.830002</td>\n",
       "      <td>39721500</td>\n",
       "      <td>0.0</td>\n",
       "      <td>0.0</td>\n",
       "    </tr>\n",
       "    <tr>\n",
       "      <th>2024-06-14 00:00:00-04:00</th>\n",
       "      <td>183.080002</td>\n",
       "      <td>183.720001</td>\n",
       "      <td>182.229996</td>\n",
       "      <td>183.660004</td>\n",
       "      <td>25456400</td>\n",
       "      <td>0.0</td>\n",
       "      <td>0.0</td>\n",
       "    </tr>\n",
       "    <tr>\n",
       "      <th>2024-06-17 00:00:00-04:00</th>\n",
       "      <td>182.520004</td>\n",
       "      <td>185.000000</td>\n",
       "      <td>181.220001</td>\n",
       "      <td>184.059998</td>\n",
       "      <td>35601900</td>\n",
       "      <td>0.0</td>\n",
       "      <td>0.0</td>\n",
       "    </tr>\n",
       "    <tr>\n",
       "      <th>2024-06-18 00:00:00-04:00</th>\n",
       "      <td>183.740005</td>\n",
       "      <td>184.289993</td>\n",
       "      <td>181.429993</td>\n",
       "      <td>182.809998</td>\n",
       "      <td>36659200</td>\n",
       "      <td>0.0</td>\n",
       "      <td>0.0</td>\n",
       "    </tr>\n",
       "  </tbody>\n",
       "</table>\n",
       "<p>6818 rows × 7 columns</p>\n",
       "</div>"
      ],
      "text/plain": [
       "                                 Open        High         Low       Close  \\\n",
       "Date                                                                        \n",
       "1997-05-15 00:00:00-04:00    0.121875    0.125000    0.096354    0.097917   \n",
       "1997-05-16 00:00:00-04:00    0.098438    0.098958    0.085417    0.086458   \n",
       "1997-05-19 00:00:00-04:00    0.088021    0.088542    0.081250    0.085417   \n",
       "1997-05-20 00:00:00-04:00    0.086458    0.087500    0.081771    0.081771   \n",
       "1997-05-21 00:00:00-04:00    0.081771    0.082292    0.068750    0.071354   \n",
       "...                               ...         ...         ...         ...   \n",
       "2024-06-12 00:00:00-04:00  188.020004  188.350006  185.429993  186.889999   \n",
       "2024-06-13 00:00:00-04:00  186.089996  187.669998  182.669998  183.830002   \n",
       "2024-06-14 00:00:00-04:00  183.080002  183.720001  182.229996  183.660004   \n",
       "2024-06-17 00:00:00-04:00  182.520004  185.000000  181.220001  184.059998   \n",
       "2024-06-18 00:00:00-04:00  183.740005  184.289993  181.429993  182.809998   \n",
       "\n",
       "                               Volume  Dividends  Stock Splits  \n",
       "Date                                                            \n",
       "1997-05-15 00:00:00-04:00  1443120000        0.0           0.0  \n",
       "1997-05-16 00:00:00-04:00   294000000        0.0           0.0  \n",
       "1997-05-19 00:00:00-04:00   122136000        0.0           0.0  \n",
       "1997-05-20 00:00:00-04:00   109344000        0.0           0.0  \n",
       "1997-05-21 00:00:00-04:00   377064000        0.0           0.0  \n",
       "...                               ...        ...           ...  \n",
       "2024-06-12 00:00:00-04:00    33984200        0.0           0.0  \n",
       "2024-06-13 00:00:00-04:00    39721500        0.0           0.0  \n",
       "2024-06-14 00:00:00-04:00    25456400        0.0           0.0  \n",
       "2024-06-17 00:00:00-04:00    35601900        0.0           0.0  \n",
       "2024-06-18 00:00:00-04:00    36659200        0.0           0.0  \n",
       "\n",
       "[6818 rows x 7 columns]"
      ]
     },
     "execution_count": 25,
     "metadata": {},
     "output_type": "execute_result"
    }
   ],
   "source": [
    "stock_data = yf.Ticker(\"AMZN\").history(period=\"max\")\n",
    "stock_data"
   ]
  },
  {
   "cell_type": "code",
   "execution_count": 26,
   "metadata": {},
   "outputs": [
    {
     "data": {
      "text/html": [
       "<div>\n",
       "<style scoped>\n",
       "    .dataframe tbody tr th:only-of-type {\n",
       "        vertical-align: middle;\n",
       "    }\n",
       "\n",
       "    .dataframe tbody tr th {\n",
       "        vertical-align: top;\n",
       "    }\n",
       "\n",
       "    .dataframe thead th {\n",
       "        text-align: right;\n",
       "    }\n",
       "</style>\n",
       "<table border=\"1\" class=\"dataframe\">\n",
       "  <thead>\n",
       "    <tr style=\"text-align: right;\">\n",
       "      <th></th>\n",
       "      <th>Date</th>\n",
       "      <th>Close</th>\n",
       "    </tr>\n",
       "  </thead>\n",
       "  <tbody>\n",
       "    <tr>\n",
       "      <th>0</th>\n",
       "      <td>1997-05-15 00:00:00-04:00</td>\n",
       "      <td>0.097917</td>\n",
       "    </tr>\n",
       "    <tr>\n",
       "      <th>1</th>\n",
       "      <td>1997-05-16 00:00:00-04:00</td>\n",
       "      <td>0.086458</td>\n",
       "    </tr>\n",
       "    <tr>\n",
       "      <th>2</th>\n",
       "      <td>1997-05-19 00:00:00-04:00</td>\n",
       "      <td>0.085417</td>\n",
       "    </tr>\n",
       "    <tr>\n",
       "      <th>3</th>\n",
       "      <td>1997-05-20 00:00:00-04:00</td>\n",
       "      <td>0.081771</td>\n",
       "    </tr>\n",
       "    <tr>\n",
       "      <th>4</th>\n",
       "      <td>1997-05-21 00:00:00-04:00</td>\n",
       "      <td>0.071354</td>\n",
       "    </tr>\n",
       "    <tr>\n",
       "      <th>...</th>\n",
       "      <td>...</td>\n",
       "      <td>...</td>\n",
       "    </tr>\n",
       "    <tr>\n",
       "      <th>6813</th>\n",
       "      <td>2024-06-12 00:00:00-04:00</td>\n",
       "      <td>186.889999</td>\n",
       "    </tr>\n",
       "    <tr>\n",
       "      <th>6814</th>\n",
       "      <td>2024-06-13 00:00:00-04:00</td>\n",
       "      <td>183.830002</td>\n",
       "    </tr>\n",
       "    <tr>\n",
       "      <th>6815</th>\n",
       "      <td>2024-06-14 00:00:00-04:00</td>\n",
       "      <td>183.660004</td>\n",
       "    </tr>\n",
       "    <tr>\n",
       "      <th>6816</th>\n",
       "      <td>2024-06-17 00:00:00-04:00</td>\n",
       "      <td>184.059998</td>\n",
       "    </tr>\n",
       "    <tr>\n",
       "      <th>6817</th>\n",
       "      <td>2024-06-18 00:00:00-04:00</td>\n",
       "      <td>182.809998</td>\n",
       "    </tr>\n",
       "  </tbody>\n",
       "</table>\n",
       "<p>6818 rows × 2 columns</p>\n",
       "</div>"
      ],
      "text/plain": [
       "                          Date       Close\n",
       "0    1997-05-15 00:00:00-04:00    0.097917\n",
       "1    1997-05-16 00:00:00-04:00    0.086458\n",
       "2    1997-05-19 00:00:00-04:00    0.085417\n",
       "3    1997-05-20 00:00:00-04:00    0.081771\n",
       "4    1997-05-21 00:00:00-04:00    0.071354\n",
       "...                        ...         ...\n",
       "6813 2024-06-12 00:00:00-04:00  186.889999\n",
       "6814 2024-06-13 00:00:00-04:00  183.830002\n",
       "6815 2024-06-14 00:00:00-04:00  183.660004\n",
       "6816 2024-06-17 00:00:00-04:00  184.059998\n",
       "6817 2024-06-18 00:00:00-04:00  182.809998\n",
       "\n",
       "[6818 rows x 2 columns]"
      ]
     },
     "execution_count": 26,
     "metadata": {},
     "output_type": "execute_result"
    }
   ],
   "source": [
    "stock_data['Date'] = stock_data.index\n",
    "stock_data = stock_data[['Date', 'Close']]\n",
    "stock_data = stock_data.reset_index(drop=True)\n",
    "stock_data"
   ]
  },
  {
   "cell_type": "code",
   "execution_count": 27,
   "metadata": {},
   "outputs": [
    {
     "data": {
      "text/plain": [
       "'cuda'"
      ]
     },
     "execution_count": 27,
     "metadata": {},
     "output_type": "execute_result"
    }
   ],
   "source": [
    "device = 'cuda' if torch.cuda.is_available() else 'cpu'\n",
    "device"
   ]
  },
  {
   "cell_type": "code",
   "execution_count": 28,
   "metadata": {},
   "outputs": [
    {
     "data": {
      "text/plain": [
       "<Axes: xlabel='Date'>"
      ]
     },
     "execution_count": 28,
     "metadata": {},
     "output_type": "execute_result"
    },
    {
     "data": {
      "image/png": "[encoded data removed]",
      "text/plain": [
       "<Figure size 640x480 with 1 Axes>"
      ]
     },
     "metadata": {},
     "output_type": "display_data"
    }
   ],
   "source": [
    "stock_data['Date'] = pd.to_datetime(stock_data['Date'])\n",
    "stock_data.plot.line(x='Date', y='Close')"
   ]
  },
  {
   "cell_type": "code",
   "execution_count": 29,
   "metadata": {},
   "outputs": [
    {
     "data": {
      "text/html": [
       "<div>\n",
       "<style scoped>\n",
       "    .dataframe tbody tr th:only-of-type {\n",
       "        vertical-align: middle;\n",
       "    }\n",
       "\n",
       "    .dataframe tbody tr th {\n",
       "        vertical-align: top;\n",
       "    }\n",
       "\n",
       "    .dataframe thead th {\n",
       "        text-align: right;\n",
       "    }\n",
       "</style>\n",
       "<table border=\"1\" class=\"dataframe\">\n",
       "  <thead>\n",
       "    <tr style=\"text-align: right;\">\n",
       "      <th></th>\n",
       "      <th>Close</th>\n",
       "    </tr>\n",
       "    <tr>\n",
       "      <th>Date</th>\n",
       "      <th></th>\n",
       "    </tr>\n",
       "  </thead>\n",
       "  <tbody>\n",
       "    <tr>\n",
       "      <th>1997-05-15 00:00:00-04:00</th>\n",
       "      <td>0.097917</td>\n",
       "    </tr>\n",
       "    <tr>\n",
       "      <th>1997-05-16 00:00:00-04:00</th>\n",
       "      <td>0.086458</td>\n",
       "    </tr>\n",
       "    <tr>\n",
       "      <th>1997-05-19 00:00:00-04:00</th>\n",
       "      <td>0.085417</td>\n",
       "    </tr>\n",
       "    <tr>\n",
       "      <th>1997-05-20 00:00:00-04:00</th>\n",
       "      <td>0.081771</td>\n",
       "    </tr>\n",
       "    <tr>\n",
       "      <th>1997-05-21 00:00:00-04:00</th>\n",
       "      <td>0.071354</td>\n",
       "    </tr>\n",
       "    <tr>\n",
       "      <th>...</th>\n",
       "      <td>...</td>\n",
       "    </tr>\n",
       "    <tr>\n",
       "      <th>2024-06-12 00:00:00-04:00</th>\n",
       "      <td>186.889999</td>\n",
       "    </tr>\n",
       "    <tr>\n",
       "      <th>2024-06-13 00:00:00-04:00</th>\n",
       "      <td>183.830002</td>\n",
       "    </tr>\n",
       "    <tr>\n",
       "      <th>2024-06-14 00:00:00-04:00</th>\n",
       "      <td>183.660004</td>\n",
       "    </tr>\n",
       "    <tr>\n",
       "      <th>2024-06-17 00:00:00-04:00</th>\n",
       "      <td>184.059998</td>\n",
       "    </tr>\n",
       "    <tr>\n",
       "      <th>2024-06-18 00:00:00-04:00</th>\n",
       "      <td>182.809998</td>\n",
       "    </tr>\n",
       "  </tbody>\n",
       "</table>\n",
       "<p>6818 rows × 1 columns</p>\n",
       "</div>"
      ],
      "text/plain": [
       "                                Close\n",
       "Date                                 \n",
       "1997-05-15 00:00:00-04:00    0.097917\n",
       "1997-05-16 00:00:00-04:00    0.086458\n",
       "1997-05-19 00:00:00-04:00    0.085417\n",
       "1997-05-20 00:00:00-04:00    0.081771\n",
       "1997-05-21 00:00:00-04:00    0.071354\n",
       "...                               ...\n",
       "2024-06-12 00:00:00-04:00  186.889999\n",
       "2024-06-13 00:00:00-04:00  183.830002\n",
       "2024-06-14 00:00:00-04:00  183.660004\n",
       "2024-06-17 00:00:00-04:00  184.059998\n",
       "2024-06-18 00:00:00-04:00  182.809998\n",
       "\n",
       "[6818 rows x 1 columns]"
      ]
     },
     "execution_count": 29,
     "metadata": {},
     "output_type": "execute_result"
    }
   ],
   "source": [
    "df = dc(stock_data)\n",
    "df.set_index('Date', inplace=True)\n",
    "df"
   ]
  },
  {
   "cell_type": "markdown",
   "metadata": {},
   "source": [
    "## Create lookback columns"
   ]
  },
  {
   "cell_type": "code",
   "execution_count": 30,
   "metadata": {},
   "outputs": [
    {
     "data": {
      "text/html": [
       "<div>\n",
       "<style scoped>\n",
       "    .dataframe tbody tr th:only-of-type {\n",
       "        vertical-align: middle;\n",
       "    }\n",
       "\n",
       "    .dataframe tbody tr th {\n",
       "        vertical-align: top;\n",
       "    }\n",
       "\n",
       "    .dataframe thead th {\n",
       "        text-align: right;\n",
       "    }\n",
       "</style>\n",
       "<table border=\"1\" class=\"dataframe\">\n",
       "  <thead>\n",
       "    <tr style=\"text-align: right;\">\n",
       "      <th></th>\n",
       "      <th>Close</th>\n",
       "      <th>Close(t-1)</th>\n",
       "      <th>Close(t-2)</th>\n",
       "      <th>Close(t-3)</th>\n",
       "      <th>Close(t-4)</th>\n",
       "      <th>Close(t-5)</th>\n",
       "      <th>Close(t-6)</th>\n",
       "      <th>Close(t-7)</th>\n",
       "    </tr>\n",
       "    <tr>\n",
       "      <th>Date</th>\n",
       "      <th></th>\n",
       "      <th></th>\n",
       "      <th></th>\n",
       "      <th></th>\n",
       "      <th></th>\n",
       "      <th></th>\n",
       "      <th></th>\n",
       "      <th></th>\n",
       "    </tr>\n",
       "  </thead>\n",
       "  <tbody>\n",
       "    <tr>\n",
       "      <th>1997-05-15 00:00:00-04:00</th>\n",
       "      <td>0.097917</td>\n",
       "      <td>NaN</td>\n",
       "      <td>NaN</td>\n",
       "      <td>NaN</td>\n",
       "      <td>NaN</td>\n",
       "      <td>NaN</td>\n",
       "      <td>NaN</td>\n",
       "      <td>NaN</td>\n",
       "    </tr>\n",
       "    <tr>\n",
       "      <th>1997-05-16 00:00:00-04:00</th>\n",
       "      <td>0.086458</td>\n",
       "      <td>0.097917</td>\n",
       "      <td>NaN</td>\n",
       "      <td>NaN</td>\n",
       "      <td>NaN</td>\n",
       "      <td>NaN</td>\n",
       "      <td>NaN</td>\n",
       "      <td>NaN</td>\n",
       "    </tr>\n",
       "    <tr>\n",
       "      <th>1997-05-19 00:00:00-04:00</th>\n",
       "      <td>0.085417</td>\n",
       "      <td>0.086458</td>\n",
       "      <td>0.097917</td>\n",
       "      <td>NaN</td>\n",
       "      <td>NaN</td>\n",
       "      <td>NaN</td>\n",
       "      <td>NaN</td>\n",
       "      <td>NaN</td>\n",
       "    </tr>\n",
       "    <tr>\n",
       "      <th>1997-05-20 00:00:00-04:00</th>\n",
       "      <td>0.081771</td>\n",
       "      <td>0.085417</td>\n",
       "      <td>0.086458</td>\n",
       "      <td>0.097917</td>\n",
       "      <td>NaN</td>\n",
       "      <td>NaN</td>\n",
       "      <td>NaN</td>\n",
       "      <td>NaN</td>\n",
       "    </tr>\n",
       "    <tr>\n",
       "      <th>1997-05-21 00:00:00-04:00</th>\n",
       "      <td>0.071354</td>\n",
       "      <td>0.081771</td>\n",
       "      <td>0.085417</td>\n",
       "      <td>0.086458</td>\n",
       "      <td>0.097917</td>\n",
       "      <td>NaN</td>\n",
       "      <td>NaN</td>\n",
       "      <td>NaN</td>\n",
       "    </tr>\n",
       "    <tr>\n",
       "      <th>...</th>\n",
       "      <td>...</td>\n",
       "      <td>...</td>\n",
       "      <td>...</td>\n",
       "      <td>...</td>\n",
       "      <td>...</td>\n",
       "      <td>...</td>\n",
       "      <td>...</td>\n",
       "      <td>...</td>\n",
       "    </tr>\n",
       "    <tr>\n",
       "      <th>2024-06-12 00:00:00-04:00</th>\n",
       "      <td>186.889999</td>\n",
       "      <td>187.229996</td>\n",
       "      <td>187.059998</td>\n",
       "      <td>184.300003</td>\n",
       "      <td>185.000000</td>\n",
       "      <td>181.279999</td>\n",
       "      <td>179.339996</td>\n",
       "      <td>178.339996</td>\n",
       "    </tr>\n",
       "    <tr>\n",
       "      <th>2024-06-13 00:00:00-04:00</th>\n",
       "      <td>183.830002</td>\n",
       "      <td>186.889999</td>\n",
       "      <td>187.229996</td>\n",
       "      <td>187.059998</td>\n",
       "      <td>184.300003</td>\n",
       "      <td>185.000000</td>\n",
       "      <td>181.279999</td>\n",
       "      <td>179.339996</td>\n",
       "    </tr>\n",
       "    <tr>\n",
       "      <th>2024-06-14 00:00:00-04:00</th>\n",
       "      <td>183.660004</td>\n",
       "      <td>183.830002</td>\n",
       "      <td>186.889999</td>\n",
       "      <td>187.229996</td>\n",
       "      <td>187.059998</td>\n",
       "      <td>184.300003</td>\n",
       "      <td>185.000000</td>\n",
       "      <td>181.279999</td>\n",
       "    </tr>\n",
       "    <tr>\n",
       "      <th>2024-06-17 00:00:00-04:00</th>\n",
       "      <td>184.059998</td>\n",
       "      <td>183.660004</td>\n",
       "      <td>183.830002</td>\n",
       "      <td>186.889999</td>\n",
       "      <td>187.229996</td>\n",
       "      <td>187.059998</td>\n",
       "      <td>184.300003</td>\n",
       "      <td>185.000000</td>\n",
       "    </tr>\n",
       "    <tr>\n",
       "      <th>2024-06-18 00:00:00-04:00</th>\n",
       "      <td>182.809998</td>\n",
       "      <td>184.059998</td>\n",
       "      <td>183.660004</td>\n",
       "      <td>183.830002</td>\n",
       "      <td>186.889999</td>\n",
       "      <td>187.229996</td>\n",
       "      <td>187.059998</td>\n",
       "      <td>184.300003</td>\n",
       "    </tr>\n",
       "  </tbody>\n",
       "</table>\n",
       "<p>6818 rows × 8 columns</p>\n",
       "</div>"
      ],
      "text/plain": [
       "                                Close  Close(t-1)  Close(t-2)  Close(t-3)  \\\n",
       "Date                                                                        \n",
       "1997-05-15 00:00:00-04:00    0.097917         NaN         NaN         NaN   \n",
       "1997-05-16 00:00:00-04:00    0.086458    0.097917         NaN         NaN   \n",
       "1997-05-19 00:00:00-04:00    0.085417    0.086458    0.097917         NaN   \n",
       "1997-05-20 00:00:00-04:00    0.081771    0.085417    0.086458    0.097917   \n",
       "1997-05-21 00:00:00-04:00    0.071354    0.081771    0.085417    0.086458   \n",
       "...                               ...         ...         ...         ...   \n",
       "2024-06-12 00:00:00-04:00  186.889999  187.229996  187.059998  184.300003   \n",
       "2024-06-13 00:00:00-04:00  183.830002  186.889999  187.229996  187.059998   \n",
       "2024-06-14 00:00:00-04:00  183.660004  183.830002  186.889999  187.229996   \n",
       "2024-06-17 00:00:00-04:00  184.059998  183.660004  183.830002  186.889999   \n",
       "2024-06-18 00:00:00-04:00  182.809998  184.059998  183.660004  183.830002   \n",
       "\n",
       "                           Close(t-4)  Close(t-5)  Close(t-6)  Close(t-7)  \n",
       "Date                                                                       \n",
       "1997-05-15 00:00:00-04:00         NaN         NaN         NaN         NaN  \n",
       "1997-05-16 00:00:00-04:00         NaN         NaN         NaN         NaN  \n",
       "1997-05-19 00:00:00-04:00         NaN         NaN         NaN         NaN  \n",
       "1997-05-20 00:00:00-04:00         NaN         NaN         NaN         NaN  \n",
       "1997-05-21 00:00:00-04:00    0.097917         NaN         NaN         NaN  \n",
       "...                               ...         ...         ...         ...  \n",
       "2024-06-12 00:00:00-04:00  185.000000  181.279999  179.339996  178.339996  \n",
       "2024-06-13 00:00:00-04:00  184.300003  185.000000  181.279999  179.339996  \n",
       "2024-06-14 00:00:00-04:00  187.059998  184.300003  185.000000  181.279999  \n",
       "2024-06-17 00:00:00-04:00  187.229996  187.059998  184.300003  185.000000  \n",
       "2024-06-18 00:00:00-04:00  186.889999  187.229996  187.059998  184.300003  \n",
       "\n",
       "[6818 rows x 8 columns]"
      ]
     },
     "execution_count": 30,
     "metadata": {},
     "output_type": "execute_result"
    }
   ],
   "source": [
    "lookback = 7\n",
    "for i in range(lookback):\n",
    "    df[f'Close(t-{i + 1})'] = df['Close'].shift(i + 1)\n",
    "\n",
    "df"
   ]
  },
  {
   "cell_type": "code",
   "execution_count": 31,
   "metadata": {},
   "outputs": [
    {
     "data": {
      "text/html": [
       "<div>\n",
       "<style scoped>\n",
       "    .dataframe tbody tr th:only-of-type {\n",
       "        vertical-align: middle;\n",
       "    }\n",
       "\n",
       "    .dataframe tbody tr th {\n",
       "        vertical-align: top;\n",
       "    }\n",
       "\n",
       "    .dataframe thead th {\n",
       "        text-align: right;\n",
       "    }\n",
       "</style>\n",
       "<table border=\"1\" class=\"dataframe\">\n",
       "  <thead>\n",
       "    <tr style=\"text-align: right;\">\n",
       "      <th></th>\n",
       "      <th>Close</th>\n",
       "      <th>Close(t-1)</th>\n",
       "      <th>Close(t-2)</th>\n",
       "      <th>Close(t-3)</th>\n",
       "      <th>Close(t-4)</th>\n",
       "      <th>Close(t-5)</th>\n",
       "      <th>Close(t-6)</th>\n",
       "      <th>Close(t-7)</th>\n",
       "    </tr>\n",
       "    <tr>\n",
       "      <th>Date</th>\n",
       "      <th></th>\n",
       "      <th></th>\n",
       "      <th></th>\n",
       "      <th></th>\n",
       "      <th></th>\n",
       "      <th></th>\n",
       "      <th></th>\n",
       "      <th></th>\n",
       "    </tr>\n",
       "  </thead>\n",
       "  <tbody>\n",
       "    <tr>\n",
       "      <th>1997-05-27 00:00:00-04:00</th>\n",
       "      <td>0.079167</td>\n",
       "      <td>0.075000</td>\n",
       "      <td>0.069792</td>\n",
       "      <td>0.071354</td>\n",
       "      <td>0.081771</td>\n",
       "      <td>0.085417</td>\n",
       "      <td>0.086458</td>\n",
       "      <td>0.097917</td>\n",
       "    </tr>\n",
       "    <tr>\n",
       "      <th>1997-05-28 00:00:00-04:00</th>\n",
       "      <td>0.076563</td>\n",
       "      <td>0.079167</td>\n",
       "      <td>0.075000</td>\n",
       "      <td>0.069792</td>\n",
       "      <td>0.071354</td>\n",
       "      <td>0.081771</td>\n",
       "      <td>0.085417</td>\n",
       "      <td>0.086458</td>\n",
       "    </tr>\n",
       "    <tr>\n",
       "      <th>1997-05-29 00:00:00-04:00</th>\n",
       "      <td>0.075260</td>\n",
       "      <td>0.076563</td>\n",
       "      <td>0.079167</td>\n",
       "      <td>0.075000</td>\n",
       "      <td>0.069792</td>\n",
       "      <td>0.071354</td>\n",
       "      <td>0.081771</td>\n",
       "      <td>0.085417</td>\n",
       "    </tr>\n",
       "    <tr>\n",
       "      <th>1997-05-30 00:00:00-04:00</th>\n",
       "      <td>0.075000</td>\n",
       "      <td>0.075260</td>\n",
       "      <td>0.076563</td>\n",
       "      <td>0.079167</td>\n",
       "      <td>0.075000</td>\n",
       "      <td>0.069792</td>\n",
       "      <td>0.071354</td>\n",
       "      <td>0.081771</td>\n",
       "    </tr>\n",
       "    <tr>\n",
       "      <th>1997-06-02 00:00:00-04:00</th>\n",
       "      <td>0.075521</td>\n",
       "      <td>0.075000</td>\n",
       "      <td>0.075260</td>\n",
       "      <td>0.076563</td>\n",
       "      <td>0.079167</td>\n",
       "      <td>0.075000</td>\n",
       "      <td>0.069792</td>\n",
       "      <td>0.071354</td>\n",
       "    </tr>\n",
       "    <tr>\n",
       "      <th>...</th>\n",
       "      <td>...</td>\n",
       "      <td>...</td>\n",
       "      <td>...</td>\n",
       "      <td>...</td>\n",
       "      <td>...</td>\n",
       "      <td>...</td>\n",
       "      <td>...</td>\n",
       "      <td>...</td>\n",
       "    </tr>\n",
       "    <tr>\n",
       "      <th>2024-06-12 00:00:00-04:00</th>\n",
       "      <td>186.889999</td>\n",
       "      <td>187.229996</td>\n",
       "      <td>187.059998</td>\n",
       "      <td>184.300003</td>\n",
       "      <td>185.000000</td>\n",
       "      <td>181.279999</td>\n",
       "      <td>179.339996</td>\n",
       "      <td>178.339996</td>\n",
       "    </tr>\n",
       "    <tr>\n",
       "      <th>2024-06-13 00:00:00-04:00</th>\n",
       "      <td>183.830002</td>\n",
       "      <td>186.889999</td>\n",
       "      <td>187.229996</td>\n",
       "      <td>187.059998</td>\n",
       "      <td>184.300003</td>\n",
       "      <td>185.000000</td>\n",
       "      <td>181.279999</td>\n",
       "      <td>179.339996</td>\n",
       "    </tr>\n",
       "    <tr>\n",
       "      <th>2024-06-14 00:00:00-04:00</th>\n",
       "      <td>183.660004</td>\n",
       "      <td>183.830002</td>\n",
       "      <td>186.889999</td>\n",
       "      <td>187.229996</td>\n",
       "      <td>187.059998</td>\n",
       "      <td>184.300003</td>\n",
       "      <td>185.000000</td>\n",
       "      <td>181.279999</td>\n",
       "    </tr>\n",
       "    <tr>\n",
       "      <th>2024-06-17 00:00:00-04:00</th>\n",
       "      <td>184.059998</td>\n",
       "      <td>183.660004</td>\n",
       "      <td>183.830002</td>\n",
       "      <td>186.889999</td>\n",
       "      <td>187.229996</td>\n",
       "      <td>187.059998</td>\n",
       "      <td>184.300003</td>\n",
       "      <td>185.000000</td>\n",
       "    </tr>\n",
       "    <tr>\n",
       "      <th>2024-06-18 00:00:00-04:00</th>\n",
       "      <td>182.809998</td>\n",
       "      <td>184.059998</td>\n",
       "      <td>183.660004</td>\n",
       "      <td>183.830002</td>\n",
       "      <td>186.889999</td>\n",
       "      <td>187.229996</td>\n",
       "      <td>187.059998</td>\n",
       "      <td>184.300003</td>\n",
       "    </tr>\n",
       "  </tbody>\n",
       "</table>\n",
       "<p>6811 rows × 8 columns</p>\n",
       "</div>"
      ],
      "text/plain": [
       "                                Close  Close(t-1)  Close(t-2)  Close(t-3)  \\\n",
       "Date                                                                        \n",
       "1997-05-27 00:00:00-04:00    0.079167    0.075000    0.069792    0.071354   \n",
       "1997-05-28 00:00:00-04:00    0.076563    0.079167    0.075000    0.069792   \n",
       "1997-05-29 00:00:00-04:00    0.075260    0.076563    0.079167    0.075000   \n",
       "1997-05-30 00:00:00-04:00    0.075000    0.075260    0.076563    0.079167   \n",
       "1997-06-02 00:00:00-04:00    0.075521    0.075000    0.075260    0.076563   \n",
       "...                               ...         ...         ...         ...   \n",
       "2024-06-12 00:00:00-04:00  186.889999  187.229996  187.059998  184.300003   \n",
       "2024-06-13 00:00:00-04:00  183.830002  186.889999  187.229996  187.059998   \n",
       "2024-06-14 00:00:00-04:00  183.660004  183.830002  186.889999  187.229996   \n",
       "2024-06-17 00:00:00-04:00  184.059998  183.660004  183.830002  186.889999   \n",
       "2024-06-18 00:00:00-04:00  182.809998  184.059998  183.660004  183.830002   \n",
       "\n",
       "                           Close(t-4)  Close(t-5)  Close(t-6)  Close(t-7)  \n",
       "Date                                                                       \n",
       "1997-05-27 00:00:00-04:00    0.081771    0.085417    0.086458    0.097917  \n",
       "1997-05-28 00:00:00-04:00    0.071354    0.081771    0.085417    0.086458  \n",
       "1997-05-29 00:00:00-04:00    0.069792    0.071354    0.081771    0.085417  \n",
       "1997-05-30 00:00:00-04:00    0.075000    0.069792    0.071354    0.081771  \n",
       "1997-06-02 00:00:00-04:00    0.079167    0.075000    0.069792    0.071354  \n",
       "...                               ...         ...         ...         ...  \n",
       "2024-06-12 00:00:00-04:00  185.000000  181.279999  179.339996  178.339996  \n",
       "2024-06-13 00:00:00-04:00  184.300003  185.000000  181.279999  179.339996  \n",
       "2024-06-14 00:00:00-04:00  187.059998  184.300003  185.000000  181.279999  \n",
       "2024-06-17 00:00:00-04:00  187.229996  187.059998  184.300003  185.000000  \n",
       "2024-06-18 00:00:00-04:00  186.889999  187.229996  187.059998  184.300003  \n",
       "\n",
       "[6811 rows x 8 columns]"
      ]
     },
     "execution_count": 31,
     "metadata": {},
     "output_type": "execute_result"
    }
   ],
   "source": [
    "df.dropna(inplace=True)\n",
    "df"
   ]
  },
  {
   "cell_type": "code",
   "execution_count": 32,
   "metadata": {},
   "outputs": [
    {
     "data": {
      "text/plain": [
       "array([[7.91670009e-02, 7.50000030e-02, 6.97920024e-02, ...,\n",
       "        8.54170024e-02, 8.64579976e-02, 9.79169980e-02],\n",
       "       [7.65630007e-02, 7.91670009e-02, 7.50000030e-02, ...,\n",
       "        8.17710012e-02, 8.54170024e-02, 8.64579976e-02],\n",
       "       [7.52599984e-02, 7.65630007e-02, 7.91670009e-02, ...,\n",
       "        7.13540018e-02, 8.17710012e-02, 8.54170024e-02],\n",
       "       ...,\n",
       "       [1.83660004e+02, 1.83830002e+02, 1.86889999e+02, ...,\n",
       "        1.84300003e+02, 1.85000000e+02, 1.81279999e+02],\n",
       "       [1.84059998e+02, 1.83660004e+02, 1.83830002e+02, ...,\n",
       "        1.87059998e+02, 1.84300003e+02, 1.85000000e+02],\n",
       "       [1.82809998e+02, 1.84059998e+02, 1.83660004e+02, ...,\n",
       "        1.87229996e+02, 1.87059998e+02, 1.84300003e+02]])"
      ]
     },
     "execution_count": 32,
     "metadata": {},
     "output_type": "execute_result"
    }
   ],
   "source": [
    "data = df.to_numpy()\n",
    "data"
   ]
  },
  {
   "cell_type": "markdown",
   "metadata": {},
   "source": [
    "## Scale data to (-1, 1)"
   ]
  },
  {
   "cell_type": "code",
   "execution_count": 33,
   "metadata": {},
   "outputs": [
    {
     "data": {
      "text/plain": [
       "array([[-0.99991201, -0.999956  , -1.        , ..., -0.99983503,\n",
       "        -0.99982404, -0.99970306],\n",
       "       [-0.9999395 , -0.99991201, -0.99994501, ..., -0.99987353,\n",
       "        -0.99983503, -0.99982404],\n",
       "       [-0.99995326, -0.9999395 , -0.99990102, ..., -0.99998351,\n",
       "        -0.99987353, -0.99983503],\n",
       "       ...,\n",
       "       [ 0.93834111,  0.94013595,  0.97244367, ...,  0.94509855,\n",
       "         0.9524891 ,  0.91321341],\n",
       "       [ 0.94256426,  0.93834111,  0.94013628, ...,  0.97423851,\n",
       "         0.94509855,  0.9524891 ],\n",
       "       [ 0.92936671,  0.94256426,  0.93834145, ...,  0.97603334,\n",
       "         0.97423851,  0.94509855]])"
      ]
     },
     "execution_count": 33,
     "metadata": {},
     "output_type": "execute_result"
    }
   ],
   "source": [
    "scaler = MinMaxScaler(feature_range=(-1, 1))\n",
    "scaled_data = scaler.fit_transform(data)\n",
    "\n",
    "scaled_data"
   ]
  },
  {
   "cell_type": "code",
   "execution_count": 34,
   "metadata": {},
   "outputs": [
    {
     "data": {
      "text/plain": [
       "((6811, 7), (6811,))"
      ]
     },
     "execution_count": 34,
     "metadata": {},
     "output_type": "execute_result"
    }
   ],
   "source": [
    "x = scaled_data[:, 1:]\n",
    "y = scaled_data[:, 0]\n",
    "\n",
    "x = dc(np.flip(x, axis=1))\n",
    "\n",
    "x.shape, y.shape"
   ]
  },
  {
   "cell_type": "markdown",
   "metadata": {},
   "source": [
    "## Partition train and test data"
   ]
  },
  {
   "cell_type": "code",
   "execution_count": 35,
   "metadata": {},
   "outputs": [
    {
     "data": {
      "text/plain": [
       "6470"
      ]
     },
     "execution_count": 35,
     "metadata": {},
     "output_type": "execute_result"
    }
   ],
   "source": [
    "split_index = int(len(x) * 0.95)\n",
    "split_index"
   ]
  },
  {
   "cell_type": "code",
   "execution_count": 36,
   "metadata": {},
   "outputs": [
    {
     "data": {
      "text/plain": [
       "((6470, 7), (341, 7), (6470,), (341,))"
      ]
     },
     "execution_count": 36,
     "metadata": {},
     "output_type": "execute_result"
    }
   ],
   "source": [
    "x_train = x[:split_index]\n",
    "x_test = x[split_index:]\n",
    "\n",
    "y_train = y[:split_index]\n",
    "y_test = y[split_index:]\n",
    "\n",
    "x_train.shape, x_test.shape, y_train.shape, y_test.shape"
   ]
  },
  {
   "cell_type": "code",
   "execution_count": 37,
   "metadata": {},
   "outputs": [
    {
     "data": {
      "text/plain": [
       "((6470, 7, 1), (341, 7, 1), (6470, 1), (341, 1))"
      ]
     },
     "execution_count": 37,
     "metadata": {},
     "output_type": "execute_result"
    }
   ],
   "source": [
    "x_train = x_train.reshape((-1, lookback, 1))\n",
    "x_test = x_test.reshape((-1, lookback, 1))\n",
    "\n",
    "y_train = y_train.reshape((-1, 1))\n",
    "y_test = y_test.reshape((-1, 1))\n",
    "\n",
    "x_train.shape, x_test.shape, y_train.shape, y_test.shape"
   ]
  },
  {
   "cell_type": "code",
   "execution_count": 38,
   "metadata": {},
   "outputs": [
    {
     "data": {
      "text/plain": [
       "(torch.Size([6470, 7, 1]),\n",
       " torch.Size([341, 7, 1]),\n",
       " torch.Size([6470, 1]),\n",
       " torch.Size([341, 1]))"
      ]
     },
     "execution_count": 38,
     "metadata": {},
     "output_type": "execute_result"
    }
   ],
   "source": [
    "x_train = torch.tensor(x_train).float()\n",
    "x_test = torch.tensor(x_test).float()\n",
    "\n",
    "y_train = torch.tensor(y_train).float()\n",
    "y_test = torch.tensor(y_test).float()\n",
    "\n",
    "x_train.shape, x_test.shape, y_train.shape, y_test.shape"
   ]
  },
  {
   "cell_type": "code",
   "execution_count": 39,
   "metadata": {},
   "outputs": [],
   "source": [
    "class TimeSeriesDataset(Dataset):\n",
    "    def __init__(self, x, y):\n",
    "        self.x = x\n",
    "        self.y = y\n",
    "\n",
    "    def __len__(self):\n",
    "        return len(self.x)\n",
    "    \n",
    "    def __getitem__(self, i):\n",
    "        return self.x[i], self.y[i]\n",
    "    \n",
    "train_set = TimeSeriesDataset(x_train, y_train)\n",
    "test_set = TimeSeriesDataset(x_test, y_test)"
   ]
  },
  {
   "cell_type": "code",
   "execution_count": 40,
   "metadata": {},
   "outputs": [],
   "source": [
    "train_loader = DataLoader(train_set, batch_size=16, shuffle=True)\n",
    "test_loader = DataLoader(test_set, batch_size=16, shuffle=False)"
   ]
  },
  {
   "cell_type": "markdown",
   "metadata": {},
   "source": [
    "## Create LSTM class"
   ]
  },
  {
   "cell_type": "code",
   "execution_count": 41,
   "metadata": {},
   "outputs": [],
   "source": [
    "class LSTM(nn.Module):\n",
    "    def __init__(self, input, hidden, stacked):\n",
    "        super().__init__()\n",
    "\n",
    "        self.hidden = hidden\n",
    "        self.stacked = stacked\n",
    "\n",
    "        self.lstm = nn.LSTM(input, hidden, stacked, batch_first=True)\n",
    "\n",
    "        self.fc = nn.Linear(hidden, 1)\n",
    "\n",
    "    def forward(self, x):\n",
    "        batch_size = x.size(0)\n",
    "\n",
    "        h0 = torch.zeros(self.stacked, batch_size, self.hidden).to(device)\n",
    "        c0 = torch.zeros(self.stacked, batch_size, self.hidden).to(device)\n",
    "\n",
    "        x, _ = self.lstm(x, (h0, c0))\n",
    "        x = self.fc(x[:, -1, :])\n",
    "\n",
    "        return x"
   ]
  },
  {
   "cell_type": "code",
   "execution_count": 42,
   "metadata": {},
   "outputs": [
    {
     "data": {
      "text/plain": [
       "LSTM(\n",
       "  (lstm): LSTM(1, 4, batch_first=True)\n",
       "  (fc): Linear(in_features=4, out_features=1, bias=True)\n",
       ")"
      ]
     },
     "execution_count": 42,
     "metadata": {},
     "output_type": "execute_result"
    }
   ],
   "source": [
    "model = LSTM(1, 4, 1)\n",
    "model.to(device)\n",
    "model"
   ]
  },
  {
   "cell_type": "markdown",
   "metadata": {},
   "source": [
    "## Train and validate"
   ]
  },
  {
   "cell_type": "code",
   "execution_count": 43,
   "metadata": {},
   "outputs": [],
   "source": [
    "lr = 0.001\n",
    "epochs = 10\n",
    "loss_fn = nn.MSELoss()\n",
    "optimizer = torch.optim.Adam(model.parameters(), lr=lr)"
   ]
  },
  {
   "cell_type": "code",
   "execution_count": 44,
   "metadata": {},
   "outputs": [
    {
     "name": "stdout",
     "output_type": "stream",
     "text": [
      "Epoch: 1\n",
      "Train loss: 0.1708086744726946\n",
      "Test loss: 0.18043230142211542\n",
      "\n",
      "Epoch: 2\n",
      "Train loss: 0.012163155099641486\n",
      "Test loss: 0.03451310641883703\n",
      "\n",
      "Epoch: 3\n",
      "Train loss: 0.0031225261426484786\n",
      "Test loss: 0.010229521937700074\n",
      "\n",
      "Epoch: 4\n",
      "Train loss: 0.0013016231722388142\n",
      "Test loss: 0.005728031220232052\n",
      "\n",
      "Epoch: 5\n",
      "Train loss: 0.0006627204897130816\n",
      "Test loss: 0.0031595711956139316\n",
      "\n",
      "Epoch: 6\n",
      "Train loss: 0.000416634273593153\n",
      "Test loss: 0.002395955051972785\n",
      "\n",
      "Epoch: 7\n",
      "Train loss: 0.0003443365391112708\n",
      "Test loss: 0.0017211476859467273\n",
      "\n",
      "Epoch: 8\n",
      "Train loss: 0.0003304747594989345\n",
      "Test loss: 0.0016456539980770851\n",
      "\n",
      "Epoch: 9\n",
      "Train loss: 0.00031486073934008154\n",
      "Test loss: 0.00145756512012502\n",
      "\n",
      "Epoch: 10\n",
      "Train loss: 0.0002999808740196947\n",
      "Test loss: 0.0012628614177546378\n",
      "\n"
     ]
    }
   ],
   "source": [
    "for epoch in range(1, epochs + 1):\n",
    "    model.train()\n",
    "    total_loss = 0\n",
    "\n",
    "    for batch_index, batch in enumerate(train_loader):\n",
    "        x_batch, y_batch = batch[0].to(device), batch[1].to(device)\n",
    "\n",
    "        output = model(x_batch)\n",
    "\n",
    "        loss = loss_fn(output, y_batch)\n",
    "        total_loss += loss.item()\n",
    "\n",
    "        optimizer.zero_grad()\n",
    "        loss.backward()\n",
    "        optimizer.step()\n",
    "\n",
    "    average_loss = total_loss / len(train_loader)\n",
    "\n",
    "    print(f'Epoch: {epoch}\\nTrain loss: {average_loss}')\n",
    "\n",
    "    model.train(False)\n",
    "    total_loss = 0\n",
    "\n",
    "    for batch_index, batch in enumerate(test_loader):\n",
    "        x_batch, y_batch = batch[0].to(device), batch[1].to(device)\n",
    "\n",
    "        with torch.no_grad():\n",
    "            output = model(x_batch)\n",
    "\n",
    "            loss = loss_fn(output, y_batch)\n",
    "            total_loss += loss.item()\n",
    "\n",
    "    average_loss = total_loss / len(test_loader)\n",
    "\n",
    "    print(f'Test loss: {average_loss}\\n')\n"
   ]
  },
  {
   "cell_type": "markdown",
   "metadata": {},
   "source": [
    "## Plot train results"
   ]
  },
  {
   "cell_type": "code",
   "execution_count": 45,
   "metadata": {},
   "outputs": [
    {
     "data": {
      "image/png": "[encoded data removed]",
      "text/plain": [
       "<Figure size 640x480 with 1 Axes>"
      ]
     },
     "metadata": {},
     "output_type": "display_data"
    }
   ],
   "source": [
    "with torch.no_grad():\n",
    "    train_predicted = model(x_train.to(device)).to('cpu').numpy()\n",
    "\n",
    "plt.plot(y_train, label='Actual closing value')\n",
    "plt.plot(train_predicted, label='Predicted closing value')\n",
    "\n",
    "plt.xlabel('Day')\n",
    "plt.ylabel('Close value')\n",
    "\n",
    "plt.legend()\n",
    "plt.show()"
   ]
  },
  {
   "cell_type": "markdown",
   "metadata": {},
   "source": [
    "## Rescale data"
   ]
  },
  {
   "cell_type": "code",
   "execution_count": 46,
   "metadata": {},
   "outputs": [
    {
     "data": {
      "text/plain": [
       "array([  0.17580975,   0.17506456,   0.17468631, ..., 107.87513283,\n",
       "       106.67445732, 105.43033741])"
      ]
     },
     "execution_count": 46,
     "metadata": {},
     "output_type": "execute_result"
    }
   ],
   "source": [
    "temp = np.zeros((x_train.shape[0], lookback + 1))\n",
    "temp[:, 0] = train_predicted.flatten()\n",
    "temp = scaler.inverse_transform(temp)\n",
    "\n",
    "rescaled_train_predictions = dc(temp[:, 0])\n",
    "rescaled_train_predictions"
   ]
  },
  {
   "cell_type": "code",
   "execution_count": 47,
   "metadata": {},
   "outputs": [],
   "source": [
    "temp = np.zeros((x_train.shape[0], lookback + 1))\n",
    "temp[:, 0] = y_train.flatten()\n",
    "temp = scaler.inverse_transform(temp)\n",
    "\n",
    "rescaled_y_train = dc(temp[:, 0])"
   ]
  },
  {
   "cell_type": "code",
   "execution_count": 48,
   "metadata": {},
   "outputs": [
    {
     "data": {
      "image/png": "[encoded data removed]",
      "text/plain": [
       "<Figure size 640x480 with 1 Axes>"
      ]
     },
     "metadata": {},
     "output_type": "display_data"
    }
   ],
   "source": [
    "plt.plot(rescaled_y_train, label='Actual closing value')\n",
    "plt.plot(rescaled_train_predictions, label='Predicted closing value')\n",
    "\n",
    "plt.xlabel('Day')\n",
    "plt.ylabel('Close value')\n",
    "\n",
    "plt.legend()\n",
    "plt.show()"
   ]
  },
  {
   "cell_type": "markdown",
   "metadata": {},
   "source": [
    "## Plot test results"
   ]
  },
  {
   "cell_type": "code",
   "execution_count": 49,
   "metadata": {},
   "outputs": [
    {
     "data": {
      "text/plain": [
       "array([103.38502385, 101.19044232,  99.56125475,  99.8682673 ,\n",
       "       100.04273647, 100.84864264, 100.60726385,  99.93806315,\n",
       "        98.29644012,  97.28161213,  96.72276546,  95.72019935,\n",
       "        95.29098302,  95.14300786,  94.42289386,  93.73927473,\n",
       "        94.29053395,  94.53660127,  94.59903689,  94.79110145,\n",
       "        94.40246869,  93.37800961,  93.04736247,  93.85749849,\n",
       "        95.06030232,  97.39558206,  98.97705023,  99.55072179,\n",
       "       100.5551396 , 100.48591818, 100.26855222,  99.80565667,\n",
       "        99.56864321,  99.05817645,  99.63366162, 100.9888497 ,\n",
       "       102.50903391, 103.38916477, 104.42314205, 104.02611031,\n",
       "       103.68549053, 103.44859985, 102.5324455 , 101.12443597,\n",
       "       101.6134515 , 102.37154795, 103.03525847, 103.49853932,\n",
       "       104.53777813, 104.99608536, 106.17410294, 106.99834123,\n",
       "       106.23332349, 106.25710204, 107.89992191, 107.79801909,\n",
       "       106.31470799, 105.73089723, 105.2848547 , 104.8938043 ,\n",
       "       105.42118899, 106.38501899, 107.29092689, 109.03513866,\n",
       "       111.13011789, 111.95875397, 112.66263172, 113.82175969,\n",
       "       115.29804787, 117.27295163, 118.14019963, 118.19168594,\n",
       "       117.82931996, 118.00392462, 117.51564581, 119.10360481,\n",
       "       121.18121305, 122.30649949, 123.72581683, 125.15703472,\n",
       "       126.50102509, 127.69180416, 126.5447941 , 126.57054855,\n",
       "       126.1533344 , 127.07826457, 127.96995445, 128.61311561,\n",
       "       129.36715299, 128.99002704, 128.74926078, 128.0798258 ,\n",
       "       129.70546098, 130.78548238, 130.79808862, 131.39067802,\n",
       "       131.64576109, 131.30241738, 131.80837203, 132.37542151,\n",
       "       132.83833541, 132.27125205, 132.34229978, 131.37448693,\n",
       "       131.16364144, 131.95695972, 133.99791219, 135.75814005,\n",
       "       136.47625557, 136.56172736, 137.25596272, 135.62939039,\n",
       "       134.25920523, 132.90951298, 132.17629029, 131.40218341,\n",
       "       130.9900445 , 132.5037534 , 134.1874857 , 134.72194976,\n",
       "       133.58442403, 132.77693572, 136.11806438, 139.78097121,\n",
       "       141.75468097, 142.19234851, 142.35967903, 142.00700907,\n",
       "       142.30146901, 141.72161005, 140.37288316, 138.86987799,\n",
       "       137.43749713, 137.09960691, 136.90936724, 137.52755302,\n",
       "       136.63140325, 136.37410153, 136.14236231, 136.65623749,\n",
       "       137.23416007, 138.7799463 , 140.04193682, 140.42860355,\n",
       "       139.83882557, 140.14997904, 140.55457565, 142.65868353,\n",
       "       143.65391623, 145.59806652, 146.84771613, 145.88589308,\n",
       "       144.77469198, 142.91849747, 140.77560549, 136.86179886,\n",
       "       134.12584326, 133.40342028, 131.16527297, 129.765709  ,\n",
       "       128.99148356, 129.11165216, 130.10178704, 129.19779577,\n",
       "       129.44666322, 129.07960871, 129.53874581, 130.04468352,\n",
       "       130.94944257, 132.63280791, 133.86636805, 133.75975976,\n",
       "       134.43872423, 134.5053911 , 133.15122767, 132.11937872,\n",
       "       130.21333507, 129.41185915, 129.6861028 , 127.50453399,\n",
       "       125.10676218, 126.42681593, 129.75521979, 132.51409019,\n",
       "       135.98676299, 138.86314299, 140.62026586, 141.76354429,\n",
       "       143.51866869, 144.50076447, 144.42821506, 145.34982571,\n",
       "       145.62004982, 146.90378653, 146.86242812, 146.64005466,\n",
       "       147.25966874, 148.00972609, 147.78207981, 148.52929751,\n",
       "       149.17855573, 149.9089049 , 150.09487662, 149.92473468,\n",
       "       149.67271143, 149.73310623, 149.03834021, 149.2702375 ,\n",
       "       148.65853832, 149.07277168, 149.62342119, 149.47036796,\n",
       "       149.92798645, 150.69937788, 150.78036721, 151.62746384,\n",
       "       153.73930596, 155.16278962, 155.41385314, 156.02943073,\n",
       "       156.24093673, 156.24386671, 156.17631915, 156.19563217,\n",
       "       155.6950068 , 154.54099077, 153.19383331, 150.80426431,\n",
       "       149.38710918, 150.03488829, 151.63905391, 153.76097312,\n",
       "       155.74717057, 156.82342646, 156.7853424 , 155.99470005,\n",
       "       155.9766121 , 156.66173008, 157.04002464, 157.76604376,\n",
       "       158.56057016, 159.36076458, 160.29573796, 161.63172876,\n",
       "       161.76604481, 160.387702  , 160.70470978, 165.15460072,\n",
       "       167.87137315, 169.22789637, 170.37619359, 170.75202674,\n",
       "       172.20334801, 172.48118216, 171.50971107, 171.47426342,\n",
       "       171.08822898, 170.74190449, 169.73248483, 169.57888964,\n",
       "       171.42279969, 172.86202281, 173.74372592, 173.88795535,\n",
       "       173.76039123, 174.65322713, 175.68146301, 176.20579917,\n",
       "       175.49414767, 174.72857103, 175.163732  , 175.0708534 ,\n",
       "       174.00276079, 174.30345893, 174.93834388, 176.01786284,\n",
       "       175.47666942, 175.04891526, 175.15789462, 175.8836597 ,\n",
       "       176.41676886, 176.9744808 , 177.58507912, 177.54186901,\n",
       "       177.8755929 , 178.24230869, 178.64824891, 178.82687029,\n",
       "       179.39604245, 179.11034987, 180.2468312 , 181.07640442,\n",
       "       181.72198182, 182.18161008, 183.23258574, 183.17461848,\n",
       "       182.37627577, 181.70191797, 180.6978784 , 179.45515009,\n",
       "       177.31275491, 176.6774409 , 177.07677598, 176.61442662,\n",
       "       175.45670719, 176.4185754 , 177.54910645, 176.58630109,\n",
       "       176.99054769, 178.9149164 , 180.62435233, 182.33180108,\n",
       "       183.41412016, 183.83892741, 184.3757061 , 184.16024265,\n",
       "       183.7164216 , 183.52608031, 183.14246211, 182.27190307,\n",
       "       181.96777252, 181.51569784, 181.12984406, 180.89436192,\n",
       "       180.20349689, 179.65890492, 179.70322154, 179.75777897,\n",
       "       179.06324441, 177.74496896, 177.39547174, 177.51859855,\n",
       "       178.21483803, 179.76118881, 180.63160106, 181.86166103,\n",
       "       182.66212642, 183.02413392, 182.38807471, 181.82330599,\n",
       "       181.55153503])"
      ]
     },
     "execution_count": 49,
     "metadata": {},
     "output_type": "execute_result"
    }
   ],
   "source": [
    "with torch.no_grad():\n",
    "    test_predicted = model(x_test.to(device)).cpu().numpy()\n",
    "\n",
    "temp = np.zeros((x_test.shape[0], lookback + 1))\n",
    "temp[:, 0] = test_predicted.flatten()\n",
    "temp = scaler.inverse_transform(temp)\n",
    "\n",
    "rescaled_test_predictions = dc(temp[:, 0])\n",
    "rescaled_test_predictions"
   ]
  },
  {
   "cell_type": "code",
   "execution_count": 50,
   "metadata": {},
   "outputs": [],
   "source": [
    "temp = np.zeros((x_test.shape[0], lookback + 1))\n",
    "temp[:, 0] = y_test.flatten()\n",
    "temp = scaler.inverse_transform(temp)\n",
    "\n",
    "rescaled_y_test = dc(temp[:, 0])"
   ]
  },
  {
   "cell_type": "code",
   "execution_count": 51,
   "metadata": {},
   "outputs": [
    {
     "data": {
      "image/png": "[encoded data removed]",
      "text/plain": [
       "<Figure size 640x480 with 1 Axes>"
      ]
     },
     "metadata": {},
     "output_type": "display_data"
    }
   ],
   "source": [
    "plt.plot(rescaled_y_test, label='Actual closing value')\n",
    "plt.plot(rescaled_test_predictions, label='Predicted closing value')\n",
    "\n",
    "plt.xlabel('Day')\n",
    "plt.ylabel('Close value')\n",
    "\n",
    "plt.legend()\n",
    "plt.show()"
   ]
  }
 ],
 "metadata": {
  "kernelspec": {
   "display_name": "Python 3",
   "language": "python",
   "name": "python3"
  },
  "language_info": {
   "codemirror_mode": {
    "name": "ipython",
    "version": 3
   },
   "file_extension": ".py",
   "mimetype": "text/x-python",
   "name": "python",
   "nbconvert_exporter": "python",
   "pygments_lexer": "ipython3",
   "version": "3.11.0"
  }
 },
 "nbformat": 4,
 "nbformat_minor": 2
}
