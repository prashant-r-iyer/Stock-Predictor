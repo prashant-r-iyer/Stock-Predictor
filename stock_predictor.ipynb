{
 "cells": [
  {
   "cell_type": "markdown",
   "metadata": {},
   "source": [
    "## Import libraries"
   ]
  },
  {
   "cell_type": "code",
   "execution_count": 1,
   "metadata": {},
   "outputs": [],
   "source": [
    "import yfinance as yf\n",
    "\n",
    "from copy import deepcopy as dc\n",
    "import pandas as pd\n",
    "import numpy as np\n",
    "import matplotlib.pyplot as plt\n",
    "\n",
    "from sklearn.preprocessing import MinMaxScaler\n",
    "\n",
    "import torch\n",
    "import torch.nn as nn\n",
    "from torch.utils.data import Dataset, DataLoader"
   ]
  },
  {
   "cell_type": "markdown",
   "metadata": {},
   "source": [
    "## Download data"
   ]
  },
  {
   "cell_type": "code",
   "execution_count": 2,
   "metadata": {},
   "outputs": [
    {
     "data": {
      "text/html": [
       "<div>\n",
       "<style scoped>\n",
       "    .dataframe tbody tr th:only-of-type {\n",
       "        vertical-align: middle;\n",
       "    }\n",
       "\n",
       "    .dataframe tbody tr th {\n",
       "        vertical-align: top;\n",
       "    }\n",
       "\n",
       "    .dataframe thead th {\n",
       "        text-align: right;\n",
       "    }\n",
       "</style>\n",
       "<table border=\"1\" class=\"dataframe\">\n",
       "  <thead>\n",
       "    <tr style=\"text-align: right;\">\n",
       "      <th></th>\n",
       "      <th>Open</th>\n",
       "      <th>High</th>\n",
       "      <th>Low</th>\n",
       "      <th>Close</th>\n",
       "      <th>Volume</th>\n",
       "      <th>Dividends</th>\n",
       "      <th>Stock Splits</th>\n",
       "    </tr>\n",
       "    <tr>\n",
       "      <th>Date</th>\n",
       "      <th></th>\n",
       "      <th></th>\n",
       "      <th></th>\n",
       "      <th></th>\n",
       "      <th></th>\n",
       "      <th></th>\n",
       "      <th></th>\n",
       "    </tr>\n",
       "  </thead>\n",
       "  <tbody>\n",
       "    <tr>\n",
       "      <th>1997-05-15 00:00:00-04:00</th>\n",
       "      <td>0.121875</td>\n",
       "      <td>0.125000</td>\n",
       "      <td>0.096354</td>\n",
       "      <td>0.097917</td>\n",
       "      <td>1443120000</td>\n",
       "      <td>0.0</td>\n",
       "      <td>0.0</td>\n",
       "    </tr>\n",
       "    <tr>\n",
       "      <th>1997-05-16 00:00:00-04:00</th>\n",
       "      <td>0.098438</td>\n",
       "      <td>0.098958</td>\n",
       "      <td>0.085417</td>\n",
       "      <td>0.086458</td>\n",
       "      <td>294000000</td>\n",
       "      <td>0.0</td>\n",
       "      <td>0.0</td>\n",
       "    </tr>\n",
       "    <tr>\n",
       "      <th>1997-05-19 00:00:00-04:00</th>\n",
       "      <td>0.088021</td>\n",
       "      <td>0.088542</td>\n",
       "      <td>0.081250</td>\n",
       "      <td>0.085417</td>\n",
       "      <td>122136000</td>\n",
       "      <td>0.0</td>\n",
       "      <td>0.0</td>\n",
       "    </tr>\n",
       "    <tr>\n",
       "      <th>1997-05-20 00:00:00-04:00</th>\n",
       "      <td>0.086458</td>\n",
       "      <td>0.087500</td>\n",
       "      <td>0.081771</td>\n",
       "      <td>0.081771</td>\n",
       "      <td>109344000</td>\n",
       "      <td>0.0</td>\n",
       "      <td>0.0</td>\n",
       "    </tr>\n",
       "    <tr>\n",
       "      <th>1997-05-21 00:00:00-04:00</th>\n",
       "      <td>0.081771</td>\n",
       "      <td>0.082292</td>\n",
       "      <td>0.068750</td>\n",
       "      <td>0.071354</td>\n",
       "      <td>377064000</td>\n",
       "      <td>0.0</td>\n",
       "      <td>0.0</td>\n",
       "    </tr>\n",
       "    <tr>\n",
       "      <th>...</th>\n",
       "      <td>...</td>\n",
       "      <td>...</td>\n",
       "      <td>...</td>\n",
       "      <td>...</td>\n",
       "      <td>...</td>\n",
       "      <td>...</td>\n",
       "      <td>...</td>\n",
       "    </tr>\n",
       "    <tr>\n",
       "      <th>2024-06-13 00:00:00-04:00</th>\n",
       "      <td>186.089996</td>\n",
       "      <td>187.669998</td>\n",
       "      <td>182.669998</td>\n",
       "      <td>183.830002</td>\n",
       "      <td>39721500</td>\n",
       "      <td>0.0</td>\n",
       "      <td>0.0</td>\n",
       "    </tr>\n",
       "    <tr>\n",
       "      <th>2024-06-14 00:00:00-04:00</th>\n",
       "      <td>183.080002</td>\n",
       "      <td>183.720001</td>\n",
       "      <td>182.229996</td>\n",
       "      <td>183.660004</td>\n",
       "      <td>25456400</td>\n",
       "      <td>0.0</td>\n",
       "      <td>0.0</td>\n",
       "    </tr>\n",
       "    <tr>\n",
       "      <th>2024-06-17 00:00:00-04:00</th>\n",
       "      <td>182.520004</td>\n",
       "      <td>185.000000</td>\n",
       "      <td>181.220001</td>\n",
       "      <td>184.059998</td>\n",
       "      <td>35601900</td>\n",
       "      <td>0.0</td>\n",
       "      <td>0.0</td>\n",
       "    </tr>\n",
       "    <tr>\n",
       "      <th>2024-06-18 00:00:00-04:00</th>\n",
       "      <td>183.740005</td>\n",
       "      <td>184.289993</td>\n",
       "      <td>181.429993</td>\n",
       "      <td>182.809998</td>\n",
       "      <td>36659200</td>\n",
       "      <td>0.0</td>\n",
       "      <td>0.0</td>\n",
       "    </tr>\n",
       "    <tr>\n",
       "      <th>2024-06-20 00:00:00-04:00</th>\n",
       "      <td>182.929993</td>\n",
       "      <td>186.500000</td>\n",
       "      <td>182.720001</td>\n",
       "      <td>186.100006</td>\n",
       "      <td>43936052</td>\n",
       "      <td>0.0</td>\n",
       "      <td>0.0</td>\n",
       "    </tr>\n",
       "  </tbody>\n",
       "</table>\n",
       "<p>6819 rows × 7 columns</p>\n",
       "</div>"
      ],
      "text/plain": [
       "                                 Open        High         Low       Close  \\\n",
       "Date                                                                        \n",
       "1997-05-15 00:00:00-04:00    0.121875    0.125000    0.096354    0.097917   \n",
       "1997-05-16 00:00:00-04:00    0.098438    0.098958    0.085417    0.086458   \n",
       "1997-05-19 00:00:00-04:00    0.088021    0.088542    0.081250    0.085417   \n",
       "1997-05-20 00:00:00-04:00    0.086458    0.087500    0.081771    0.081771   \n",
       "1997-05-21 00:00:00-04:00    0.081771    0.082292    0.068750    0.071354   \n",
       "...                               ...         ...         ...         ...   \n",
       "2024-06-13 00:00:00-04:00  186.089996  187.669998  182.669998  183.830002   \n",
       "2024-06-14 00:00:00-04:00  183.080002  183.720001  182.229996  183.660004   \n",
       "2024-06-17 00:00:00-04:00  182.520004  185.000000  181.220001  184.059998   \n",
       "2024-06-18 00:00:00-04:00  183.740005  184.289993  181.429993  182.809998   \n",
       "2024-06-20 00:00:00-04:00  182.929993  186.500000  182.720001  186.100006   \n",
       "\n",
       "                               Volume  Dividends  Stock Splits  \n",
       "Date                                                            \n",
       "1997-05-15 00:00:00-04:00  1443120000        0.0           0.0  \n",
       "1997-05-16 00:00:00-04:00   294000000        0.0           0.0  \n",
       "1997-05-19 00:00:00-04:00   122136000        0.0           0.0  \n",
       "1997-05-20 00:00:00-04:00   109344000        0.0           0.0  \n",
       "1997-05-21 00:00:00-04:00   377064000        0.0           0.0  \n",
       "...                               ...        ...           ...  \n",
       "2024-06-13 00:00:00-04:00    39721500        0.0           0.0  \n",
       "2024-06-14 00:00:00-04:00    25456400        0.0           0.0  \n",
       "2024-06-17 00:00:00-04:00    35601900        0.0           0.0  \n",
       "2024-06-18 00:00:00-04:00    36659200        0.0           0.0  \n",
       "2024-06-20 00:00:00-04:00    43936052        0.0           0.0  \n",
       "\n",
       "[6819 rows x 7 columns]"
      ]
     },
     "execution_count": 2,
     "metadata": {},
     "output_type": "execute_result"
    }
   ],
   "source": [
    "stock_data = yf.Ticker(\"AMZN\").history(period=\"max\")\n",
    "stock_data"
   ]
  },
  {
   "cell_type": "code",
   "execution_count": 3,
   "metadata": {},
   "outputs": [
    {
     "data": {
      "text/html": [
       "<div>\n",
       "<style scoped>\n",
       "    .dataframe tbody tr th:only-of-type {\n",
       "        vertical-align: middle;\n",
       "    }\n",
       "\n",
       "    .dataframe tbody tr th {\n",
       "        vertical-align: top;\n",
       "    }\n",
       "\n",
       "    .dataframe thead th {\n",
       "        text-align: right;\n",
       "    }\n",
       "</style>\n",
       "<table border=\"1\" class=\"dataframe\">\n",
       "  <thead>\n",
       "    <tr style=\"text-align: right;\">\n",
       "      <th></th>\n",
       "      <th>Date</th>\n",
       "      <th>Close</th>\n",
       "    </tr>\n",
       "  </thead>\n",
       "  <tbody>\n",
       "    <tr>\n",
       "      <th>0</th>\n",
       "      <td>1997-05-15 00:00:00-04:00</td>\n",
       "      <td>0.097917</td>\n",
       "    </tr>\n",
       "    <tr>\n",
       "      <th>1</th>\n",
       "      <td>1997-05-16 00:00:00-04:00</td>\n",
       "      <td>0.086458</td>\n",
       "    </tr>\n",
       "    <tr>\n",
       "      <th>2</th>\n",
       "      <td>1997-05-19 00:00:00-04:00</td>\n",
       "      <td>0.085417</td>\n",
       "    </tr>\n",
       "    <tr>\n",
       "      <th>3</th>\n",
       "      <td>1997-05-20 00:00:00-04:00</td>\n",
       "      <td>0.081771</td>\n",
       "    </tr>\n",
       "    <tr>\n",
       "      <th>4</th>\n",
       "      <td>1997-05-21 00:00:00-04:00</td>\n",
       "      <td>0.071354</td>\n",
       "    </tr>\n",
       "    <tr>\n",
       "      <th>...</th>\n",
       "      <td>...</td>\n",
       "      <td>...</td>\n",
       "    </tr>\n",
       "    <tr>\n",
       "      <th>6814</th>\n",
       "      <td>2024-06-13 00:00:00-04:00</td>\n",
       "      <td>183.830002</td>\n",
       "    </tr>\n",
       "    <tr>\n",
       "      <th>6815</th>\n",
       "      <td>2024-06-14 00:00:00-04:00</td>\n",
       "      <td>183.660004</td>\n",
       "    </tr>\n",
       "    <tr>\n",
       "      <th>6816</th>\n",
       "      <td>2024-06-17 00:00:00-04:00</td>\n",
       "      <td>184.059998</td>\n",
       "    </tr>\n",
       "    <tr>\n",
       "      <th>6817</th>\n",
       "      <td>2024-06-18 00:00:00-04:00</td>\n",
       "      <td>182.809998</td>\n",
       "    </tr>\n",
       "    <tr>\n",
       "      <th>6818</th>\n",
       "      <td>2024-06-20 00:00:00-04:00</td>\n",
       "      <td>186.100006</td>\n",
       "    </tr>\n",
       "  </tbody>\n",
       "</table>\n",
       "<p>6819 rows × 2 columns</p>\n",
       "</div>"
      ],
      "text/plain": [
       "                          Date       Close\n",
       "0    1997-05-15 00:00:00-04:00    0.097917\n",
       "1    1997-05-16 00:00:00-04:00    0.086458\n",
       "2    1997-05-19 00:00:00-04:00    0.085417\n",
       "3    1997-05-20 00:00:00-04:00    0.081771\n",
       "4    1997-05-21 00:00:00-04:00    0.071354\n",
       "...                        ...         ...\n",
       "6814 2024-06-13 00:00:00-04:00  183.830002\n",
       "6815 2024-06-14 00:00:00-04:00  183.660004\n",
       "6816 2024-06-17 00:00:00-04:00  184.059998\n",
       "6817 2024-06-18 00:00:00-04:00  182.809998\n",
       "6818 2024-06-20 00:00:00-04:00  186.100006\n",
       "\n",
       "[6819 rows x 2 columns]"
      ]
     },
     "execution_count": 3,
     "metadata": {},
     "output_type": "execute_result"
    }
   ],
   "source": [
    "stock_data['Date'] = stock_data.index\n",
    "stock_data = stock_data[['Date', 'Close']]\n",
    "stock_data = stock_data.reset_index(drop=True)\n",
    "stock_data"
   ]
  },
  {
   "cell_type": "code",
   "execution_count": 4,
   "metadata": {},
   "outputs": [
    {
     "data": {
      "text/plain": [
       "'cuda'"
      ]
     },
     "execution_count": 4,
     "metadata": {},
     "output_type": "execute_result"
    }
   ],
   "source": [
    "device = 'cuda' if torch.cuda.is_available() else 'cpu'\n",
    "device"
   ]
  },
  {
   "cell_type": "code",
   "execution_count": 5,
   "metadata": {},
   "outputs": [
    {
     "data": {
      "text/plain": [
       "<Axes: xlabel='Date'>"
      ]
     },
     "execution_count": 5,
     "metadata": {},
     "output_type": "execute_result"
    },
    {
     "data": {
      "image/png": "[encoded data removed]",
      "text/plain": [
       "<Figure size 640x480 with 1 Axes>"
      ]
     },
     "metadata": {},
     "output_type": "display_data"
    }
   ],
   "source": [
    "stock_data['Date'] = pd.to_datetime(stock_data['Date'])\n",
    "stock_data.plot.line(x='Date', y='Close')"
   ]
  },
  {
   "cell_type": "code",
   "execution_count": 6,
   "metadata": {},
   "outputs": [
    {
     "data": {
      "text/html": [
       "<div>\n",
       "<style scoped>\n",
       "    .dataframe tbody tr th:only-of-type {\n",
       "        vertical-align: middle;\n",
       "    }\n",
       "\n",
       "    .dataframe tbody tr th {\n",
       "        vertical-align: top;\n",
       "    }\n",
       "\n",
       "    .dataframe thead th {\n",
       "        text-align: right;\n",
       "    }\n",
       "</style>\n",
       "<table border=\"1\" class=\"dataframe\">\n",
       "  <thead>\n",
       "    <tr style=\"text-align: right;\">\n",
       "      <th></th>\n",
       "      <th>Close</th>\n",
       "    </tr>\n",
       "    <tr>\n",
       "      <th>Date</th>\n",
       "      <th></th>\n",
       "    </tr>\n",
       "  </thead>\n",
       "  <tbody>\n",
       "    <tr>\n",
       "      <th>1997-05-15 00:00:00-04:00</th>\n",
       "      <td>0.097917</td>\n",
       "    </tr>\n",
       "    <tr>\n",
       "      <th>1997-05-16 00:00:00-04:00</th>\n",
       "      <td>0.086458</td>\n",
       "    </tr>\n",
       "    <tr>\n",
       "      <th>1997-05-19 00:00:00-04:00</th>\n",
       "      <td>0.085417</td>\n",
       "    </tr>\n",
       "    <tr>\n",
       "      <th>1997-05-20 00:00:00-04:00</th>\n",
       "      <td>0.081771</td>\n",
       "    </tr>\n",
       "    <tr>\n",
       "      <th>1997-05-21 00:00:00-04:00</th>\n",
       "      <td>0.071354</td>\n",
       "    </tr>\n",
       "    <tr>\n",
       "      <th>...</th>\n",
       "      <td>...</td>\n",
       "    </tr>\n",
       "    <tr>\n",
       "      <th>2024-06-13 00:00:00-04:00</th>\n",
       "      <td>183.830002</td>\n",
       "    </tr>\n",
       "    <tr>\n",
       "      <th>2024-06-14 00:00:00-04:00</th>\n",
       "      <td>183.660004</td>\n",
       "    </tr>\n",
       "    <tr>\n",
       "      <th>2024-06-17 00:00:00-04:00</th>\n",
       "      <td>184.059998</td>\n",
       "    </tr>\n",
       "    <tr>\n",
       "      <th>2024-06-18 00:00:00-04:00</th>\n",
       "      <td>182.809998</td>\n",
       "    </tr>\n",
       "    <tr>\n",
       "      <th>2024-06-20 00:00:00-04:00</th>\n",
       "      <td>186.100006</td>\n",
       "    </tr>\n",
       "  </tbody>\n",
       "</table>\n",
       "<p>6819 rows × 1 columns</p>\n",
       "</div>"
      ],
      "text/plain": [
       "                                Close\n",
       "Date                                 \n",
       "1997-05-15 00:00:00-04:00    0.097917\n",
       "1997-05-16 00:00:00-04:00    0.086458\n",
       "1997-05-19 00:00:00-04:00    0.085417\n",
       "1997-05-20 00:00:00-04:00    0.081771\n",
       "1997-05-21 00:00:00-04:00    0.071354\n",
       "...                               ...\n",
       "2024-06-13 00:00:00-04:00  183.830002\n",
       "2024-06-14 00:00:00-04:00  183.660004\n",
       "2024-06-17 00:00:00-04:00  184.059998\n",
       "2024-06-18 00:00:00-04:00  182.809998\n",
       "2024-06-20 00:00:00-04:00  186.100006\n",
       "\n",
       "[6819 rows x 1 columns]"
      ]
     },
     "execution_count": 6,
     "metadata": {},
     "output_type": "execute_result"
    }
   ],
   "source": [
    "df = dc(stock_data)\n",
    "df.set_index('Date', inplace=True)\n",
    "df"
   ]
  },
  {
   "cell_type": "markdown",
   "metadata": {},
   "source": [
    "## Create lookback columns"
   ]
  },
  {
   "cell_type": "code",
   "execution_count": 7,
   "metadata": {},
   "outputs": [
    {
     "data": {
      "text/html": [
       "<div>\n",
       "<style scoped>\n",
       "    .dataframe tbody tr th:only-of-type {\n",
       "        vertical-align: middle;\n",
       "    }\n",
       "\n",
       "    .dataframe tbody tr th {\n",
       "        vertical-align: top;\n",
       "    }\n",
       "\n",
       "    .dataframe thead th {\n",
       "        text-align: right;\n",
       "    }\n",
       "</style>\n",
       "<table border=\"1\" class=\"dataframe\">\n",
       "  <thead>\n",
       "    <tr style=\"text-align: right;\">\n",
       "      <th></th>\n",
       "      <th>Close</th>\n",
       "      <th>Close(t-1)</th>\n",
       "      <th>Close(t-2)</th>\n",
       "      <th>Close(t-3)</th>\n",
       "      <th>Close(t-4)</th>\n",
       "      <th>Close(t-5)</th>\n",
       "      <th>Close(t-6)</th>\n",
       "      <th>Close(t-7)</th>\n",
       "    </tr>\n",
       "    <tr>\n",
       "      <th>Date</th>\n",
       "      <th></th>\n",
       "      <th></th>\n",
       "      <th></th>\n",
       "      <th></th>\n",
       "      <th></th>\n",
       "      <th></th>\n",
       "      <th></th>\n",
       "      <th></th>\n",
       "    </tr>\n",
       "  </thead>\n",
       "  <tbody>\n",
       "    <tr>\n",
       "      <th>1997-05-15 00:00:00-04:00</th>\n",
       "      <td>0.097917</td>\n",
       "      <td>NaN</td>\n",
       "      <td>NaN</td>\n",
       "      <td>NaN</td>\n",
       "      <td>NaN</td>\n",
       "      <td>NaN</td>\n",
       "      <td>NaN</td>\n",
       "      <td>NaN</td>\n",
       "    </tr>\n",
       "    <tr>\n",
       "      <th>1997-05-16 00:00:00-04:00</th>\n",
       "      <td>0.086458</td>\n",
       "      <td>0.097917</td>\n",
       "      <td>NaN</td>\n",
       "      <td>NaN</td>\n",
       "      <td>NaN</td>\n",
       "      <td>NaN</td>\n",
       "      <td>NaN</td>\n",
       "      <td>NaN</td>\n",
       "    </tr>\n",
       "    <tr>\n",
       "      <th>1997-05-19 00:00:00-04:00</th>\n",
       "      <td>0.085417</td>\n",
       "      <td>0.086458</td>\n",
       "      <td>0.097917</td>\n",
       "      <td>NaN</td>\n",
       "      <td>NaN</td>\n",
       "      <td>NaN</td>\n",
       "      <td>NaN</td>\n",
       "      <td>NaN</td>\n",
       "    </tr>\n",
       "    <tr>\n",
       "      <th>1997-05-20 00:00:00-04:00</th>\n",
       "      <td>0.081771</td>\n",
       "      <td>0.085417</td>\n",
       "      <td>0.086458</td>\n",
       "      <td>0.097917</td>\n",
       "      <td>NaN</td>\n",
       "      <td>NaN</td>\n",
       "      <td>NaN</td>\n",
       "      <td>NaN</td>\n",
       "    </tr>\n",
       "    <tr>\n",
       "      <th>1997-05-21 00:00:00-04:00</th>\n",
       "      <td>0.071354</td>\n",
       "      <td>0.081771</td>\n",
       "      <td>0.085417</td>\n",
       "      <td>0.086458</td>\n",
       "      <td>0.097917</td>\n",
       "      <td>NaN</td>\n",
       "      <td>NaN</td>\n",
       "      <td>NaN</td>\n",
       "    </tr>\n",
       "    <tr>\n",
       "      <th>...</th>\n",
       "      <td>...</td>\n",
       "      <td>...</td>\n",
       "      <td>...</td>\n",
       "      <td>...</td>\n",
       "      <td>...</td>\n",
       "      <td>...</td>\n",
       "      <td>...</td>\n",
       "      <td>...</td>\n",
       "    </tr>\n",
       "    <tr>\n",
       "      <th>2024-06-13 00:00:00-04:00</th>\n",
       "      <td>183.830002</td>\n",
       "      <td>186.889999</td>\n",
       "      <td>187.229996</td>\n",
       "      <td>187.059998</td>\n",
       "      <td>184.300003</td>\n",
       "      <td>185.000000</td>\n",
       "      <td>181.279999</td>\n",
       "      <td>179.339996</td>\n",
       "    </tr>\n",
       "    <tr>\n",
       "      <th>2024-06-14 00:00:00-04:00</th>\n",
       "      <td>183.660004</td>\n",
       "      <td>183.830002</td>\n",
       "      <td>186.889999</td>\n",
       "      <td>187.229996</td>\n",
       "      <td>187.059998</td>\n",
       "      <td>184.300003</td>\n",
       "      <td>185.000000</td>\n",
       "      <td>181.279999</td>\n",
       "    </tr>\n",
       "    <tr>\n",
       "      <th>2024-06-17 00:00:00-04:00</th>\n",
       "      <td>184.059998</td>\n",
       "      <td>183.660004</td>\n",
       "      <td>183.830002</td>\n",
       "      <td>186.889999</td>\n",
       "      <td>187.229996</td>\n",
       "      <td>187.059998</td>\n",
       "      <td>184.300003</td>\n",
       "      <td>185.000000</td>\n",
       "    </tr>\n",
       "    <tr>\n",
       "      <th>2024-06-18 00:00:00-04:00</th>\n",
       "      <td>182.809998</td>\n",
       "      <td>184.059998</td>\n",
       "      <td>183.660004</td>\n",
       "      <td>183.830002</td>\n",
       "      <td>186.889999</td>\n",
       "      <td>187.229996</td>\n",
       "      <td>187.059998</td>\n",
       "      <td>184.300003</td>\n",
       "    </tr>\n",
       "    <tr>\n",
       "      <th>2024-06-20 00:00:00-04:00</th>\n",
       "      <td>186.100006</td>\n",
       "      <td>182.809998</td>\n",
       "      <td>184.059998</td>\n",
       "      <td>183.660004</td>\n",
       "      <td>183.830002</td>\n",
       "      <td>186.889999</td>\n",
       "      <td>187.229996</td>\n",
       "      <td>187.059998</td>\n",
       "    </tr>\n",
       "  </tbody>\n",
       "</table>\n",
       "<p>6819 rows × 8 columns</p>\n",
       "</div>"
      ],
      "text/plain": [
       "                                Close  Close(t-1)  Close(t-2)  Close(t-3)  \\\n",
       "Date                                                                        \n",
       "1997-05-15 00:00:00-04:00    0.097917         NaN         NaN         NaN   \n",
       "1997-05-16 00:00:00-04:00    0.086458    0.097917         NaN         NaN   \n",
       "1997-05-19 00:00:00-04:00    0.085417    0.086458    0.097917         NaN   \n",
       "1997-05-20 00:00:00-04:00    0.081771    0.085417    0.086458    0.097917   \n",
       "1997-05-21 00:00:00-04:00    0.071354    0.081771    0.085417    0.086458   \n",
       "...                               ...         ...         ...         ...   \n",
       "2024-06-13 00:00:00-04:00  183.830002  186.889999  187.229996  187.059998   \n",
       "2024-06-14 00:00:00-04:00  183.660004  183.830002  186.889999  187.229996   \n",
       "2024-06-17 00:00:00-04:00  184.059998  183.660004  183.830002  186.889999   \n",
       "2024-06-18 00:00:00-04:00  182.809998  184.059998  183.660004  183.830002   \n",
       "2024-06-20 00:00:00-04:00  186.100006  182.809998  184.059998  183.660004   \n",
       "\n",
       "                           Close(t-4)  Close(t-5)  Close(t-6)  Close(t-7)  \n",
       "Date                                                                       \n",
       "1997-05-15 00:00:00-04:00         NaN         NaN         NaN         NaN  \n",
       "1997-05-16 00:00:00-04:00         NaN         NaN         NaN         NaN  \n",
       "1997-05-19 00:00:00-04:00         NaN         NaN         NaN         NaN  \n",
       "1997-05-20 00:00:00-04:00         NaN         NaN         NaN         NaN  \n",
       "1997-05-21 00:00:00-04:00    0.097917         NaN         NaN         NaN  \n",
       "...                               ...         ...         ...         ...  \n",
       "2024-06-13 00:00:00-04:00  184.300003  185.000000  181.279999  179.339996  \n",
       "2024-06-14 00:00:00-04:00  187.059998  184.300003  185.000000  181.279999  \n",
       "2024-06-17 00:00:00-04:00  187.229996  187.059998  184.300003  185.000000  \n",
       "2024-06-18 00:00:00-04:00  186.889999  187.229996  187.059998  184.300003  \n",
       "2024-06-20 00:00:00-04:00  183.830002  186.889999  187.229996  187.059998  \n",
       "\n",
       "[6819 rows x 8 columns]"
      ]
     },
     "execution_count": 7,
     "metadata": {},
     "output_type": "execute_result"
    }
   ],
   "source": [
    "lookback = 7\n",
    "for i in range(lookback):\n",
    "    df[f'Close(t-{i + 1})'] = df['Close'].shift(i + 1)\n",
    "\n",
    "df"
   ]
  },
  {
   "cell_type": "code",
   "execution_count": 8,
   "metadata": {},
   "outputs": [
    {
     "data": {
      "text/html": [
       "<div>\n",
       "<style scoped>\n",
       "    .dataframe tbody tr th:only-of-type {\n",
       "        vertical-align: middle;\n",
       "    }\n",
       "\n",
       "    .dataframe tbody tr th {\n",
       "        vertical-align: top;\n",
       "    }\n",
       "\n",
       "    .dataframe thead th {\n",
       "        text-align: right;\n",
       "    }\n",
       "</style>\n",
       "<table border=\"1\" class=\"dataframe\">\n",
       "  <thead>\n",
       "    <tr style=\"text-align: right;\">\n",
       "      <th></th>\n",
       "      <th>Close</th>\n",
       "      <th>Close(t-1)</th>\n",
       "      <th>Close(t-2)</th>\n",
       "      <th>Close(t-3)</th>\n",
       "      <th>Close(t-4)</th>\n",
       "      <th>Close(t-5)</th>\n",
       "      <th>Close(t-6)</th>\n",
       "      <th>Close(t-7)</th>\n",
       "    </tr>\n",
       "    <tr>\n",
       "      <th>Date</th>\n",
       "      <th></th>\n",
       "      <th></th>\n",
       "      <th></th>\n",
       "      <th></th>\n",
       "      <th></th>\n",
       "      <th></th>\n",
       "      <th></th>\n",
       "      <th></th>\n",
       "    </tr>\n",
       "  </thead>\n",
       "  <tbody>\n",
       "    <tr>\n",
       "      <th>1997-05-27 00:00:00-04:00</th>\n",
       "      <td>0.079167</td>\n",
       "      <td>0.075000</td>\n",
       "      <td>0.069792</td>\n",
       "      <td>0.071354</td>\n",
       "      <td>0.081771</td>\n",
       "      <td>0.085417</td>\n",
       "      <td>0.086458</td>\n",
       "      <td>0.097917</td>\n",
       "    </tr>\n",
       "    <tr>\n",
       "      <th>1997-05-28 00:00:00-04:00</th>\n",
       "      <td>0.076563</td>\n",
       "      <td>0.079167</td>\n",
       "      <td>0.075000</td>\n",
       "      <td>0.069792</td>\n",
       "      <td>0.071354</td>\n",
       "      <td>0.081771</td>\n",
       "      <td>0.085417</td>\n",
       "      <td>0.086458</td>\n",
       "    </tr>\n",
       "    <tr>\n",
       "      <th>1997-05-29 00:00:00-04:00</th>\n",
       "      <td>0.075260</td>\n",
       "      <td>0.076563</td>\n",
       "      <td>0.079167</td>\n",
       "      <td>0.075000</td>\n",
       "      <td>0.069792</td>\n",
       "      <td>0.071354</td>\n",
       "      <td>0.081771</td>\n",
       "      <td>0.085417</td>\n",
       "    </tr>\n",
       "    <tr>\n",
       "      <th>1997-05-30 00:00:00-04:00</th>\n",
       "      <td>0.075000</td>\n",
       "      <td>0.075260</td>\n",
       "      <td>0.076563</td>\n",
       "      <td>0.079167</td>\n",
       "      <td>0.075000</td>\n",
       "      <td>0.069792</td>\n",
       "      <td>0.071354</td>\n",
       "      <td>0.081771</td>\n",
       "    </tr>\n",
       "    <tr>\n",
       "      <th>1997-06-02 00:00:00-04:00</th>\n",
       "      <td>0.075521</td>\n",
       "      <td>0.075000</td>\n",
       "      <td>0.075260</td>\n",
       "      <td>0.076563</td>\n",
       "      <td>0.079167</td>\n",
       "      <td>0.075000</td>\n",
       "      <td>0.069792</td>\n",
       "      <td>0.071354</td>\n",
       "    </tr>\n",
       "    <tr>\n",
       "      <th>...</th>\n",
       "      <td>...</td>\n",
       "      <td>...</td>\n",
       "      <td>...</td>\n",
       "      <td>...</td>\n",
       "      <td>...</td>\n",
       "      <td>...</td>\n",
       "      <td>...</td>\n",
       "      <td>...</td>\n",
       "    </tr>\n",
       "    <tr>\n",
       "      <th>2024-06-13 00:00:00-04:00</th>\n",
       "      <td>183.830002</td>\n",
       "      <td>186.889999</td>\n",
       "      <td>187.229996</td>\n",
       "      <td>187.059998</td>\n",
       "      <td>184.300003</td>\n",
       "      <td>185.000000</td>\n",
       "      <td>181.279999</td>\n",
       "      <td>179.339996</td>\n",
       "    </tr>\n",
       "    <tr>\n",
       "      <th>2024-06-14 00:00:00-04:00</th>\n",
       "      <td>183.660004</td>\n",
       "      <td>183.830002</td>\n",
       "      <td>186.889999</td>\n",
       "      <td>187.229996</td>\n",
       "      <td>187.059998</td>\n",
       "      <td>184.300003</td>\n",
       "      <td>185.000000</td>\n",
       "      <td>181.279999</td>\n",
       "    </tr>\n",
       "    <tr>\n",
       "      <th>2024-06-17 00:00:00-04:00</th>\n",
       "      <td>184.059998</td>\n",
       "      <td>183.660004</td>\n",
       "      <td>183.830002</td>\n",
       "      <td>186.889999</td>\n",
       "      <td>187.229996</td>\n",
       "      <td>187.059998</td>\n",
       "      <td>184.300003</td>\n",
       "      <td>185.000000</td>\n",
       "    </tr>\n",
       "    <tr>\n",
       "      <th>2024-06-18 00:00:00-04:00</th>\n",
       "      <td>182.809998</td>\n",
       "      <td>184.059998</td>\n",
       "      <td>183.660004</td>\n",
       "      <td>183.830002</td>\n",
       "      <td>186.889999</td>\n",
       "      <td>187.229996</td>\n",
       "      <td>187.059998</td>\n",
       "      <td>184.300003</td>\n",
       "    </tr>\n",
       "    <tr>\n",
       "      <th>2024-06-20 00:00:00-04:00</th>\n",
       "      <td>186.100006</td>\n",
       "      <td>182.809998</td>\n",
       "      <td>184.059998</td>\n",
       "      <td>183.660004</td>\n",
       "      <td>183.830002</td>\n",
       "      <td>186.889999</td>\n",
       "      <td>187.229996</td>\n",
       "      <td>187.059998</td>\n",
       "    </tr>\n",
       "  </tbody>\n",
       "</table>\n",
       "<p>6812 rows × 8 columns</p>\n",
       "</div>"
      ],
      "text/plain": [
       "                                Close  Close(t-1)  Close(t-2)  Close(t-3)  \\\n",
       "Date                                                                        \n",
       "1997-05-27 00:00:00-04:00    0.079167    0.075000    0.069792    0.071354   \n",
       "1997-05-28 00:00:00-04:00    0.076563    0.079167    0.075000    0.069792   \n",
       "1997-05-29 00:00:00-04:00    0.075260    0.076563    0.079167    0.075000   \n",
       "1997-05-30 00:00:00-04:00    0.075000    0.075260    0.076563    0.079167   \n",
       "1997-06-02 00:00:00-04:00    0.075521    0.075000    0.075260    0.076563   \n",
       "...                               ...         ...         ...         ...   \n",
       "2024-06-13 00:00:00-04:00  183.830002  186.889999  187.229996  187.059998   \n",
       "2024-06-14 00:00:00-04:00  183.660004  183.830002  186.889999  187.229996   \n",
       "2024-06-17 00:00:00-04:00  184.059998  183.660004  183.830002  186.889999   \n",
       "2024-06-18 00:00:00-04:00  182.809998  184.059998  183.660004  183.830002   \n",
       "2024-06-20 00:00:00-04:00  186.100006  182.809998  184.059998  183.660004   \n",
       "\n",
       "                           Close(t-4)  Close(t-5)  Close(t-6)  Close(t-7)  \n",
       "Date                                                                       \n",
       "1997-05-27 00:00:00-04:00    0.081771    0.085417    0.086458    0.097917  \n",
       "1997-05-28 00:00:00-04:00    0.071354    0.081771    0.085417    0.086458  \n",
       "1997-05-29 00:00:00-04:00    0.069792    0.071354    0.081771    0.085417  \n",
       "1997-05-30 00:00:00-04:00    0.075000    0.069792    0.071354    0.081771  \n",
       "1997-06-02 00:00:00-04:00    0.079167    0.075000    0.069792    0.071354  \n",
       "...                               ...         ...         ...         ...  \n",
       "2024-06-13 00:00:00-04:00  184.300003  185.000000  181.279999  179.339996  \n",
       "2024-06-14 00:00:00-04:00  187.059998  184.300003  185.000000  181.279999  \n",
       "2024-06-17 00:00:00-04:00  187.229996  187.059998  184.300003  185.000000  \n",
       "2024-06-18 00:00:00-04:00  186.889999  187.229996  187.059998  184.300003  \n",
       "2024-06-20 00:00:00-04:00  183.830002  186.889999  187.229996  187.059998  \n",
       "\n",
       "[6812 rows x 8 columns]"
      ]
     },
     "execution_count": 8,
     "metadata": {},
     "output_type": "execute_result"
    }
   ],
   "source": [
    "df.dropna(inplace=True)\n",
    "df"
   ]
  },
  {
   "cell_type": "code",
   "execution_count": 9,
   "metadata": {},
   "outputs": [
    {
     "data": {
      "text/plain": [
       "array([[7.91670009e-02, 7.50000030e-02, 6.97920024e-02, ...,\n",
       "        8.54170024e-02, 8.64579976e-02, 9.79169980e-02],\n",
       "       [7.65630007e-02, 7.91670009e-02, 7.50000030e-02, ...,\n",
       "        8.17710012e-02, 8.54170024e-02, 8.64579976e-02],\n",
       "       [7.52599984e-02, 7.65630007e-02, 7.91670009e-02, ...,\n",
       "        7.13540018e-02, 8.17710012e-02, 8.54170024e-02],\n",
       "       ...,\n",
       "       [1.84059998e+02, 1.83660004e+02, 1.83830002e+02, ...,\n",
       "        1.87059998e+02, 1.84300003e+02, 1.85000000e+02],\n",
       "       [1.82809998e+02, 1.84059998e+02, 1.83660004e+02, ...,\n",
       "        1.87229996e+02, 1.87059998e+02, 1.84300003e+02],\n",
       "       [1.86100006e+02, 1.82809998e+02, 1.84059998e+02, ...,\n",
       "        1.86889999e+02, 1.87229996e+02, 1.87059998e+02]])"
      ]
     },
     "execution_count": 9,
     "metadata": {},
     "output_type": "execute_result"
    }
   ],
   "source": [
    "data = df.to_numpy()\n",
    "data"
   ]
  },
  {
   "cell_type": "markdown",
   "metadata": {},
   "source": [
    "## Scale data to (-1, 1)"
   ]
  },
  {
   "cell_type": "code",
   "execution_count": 10,
   "metadata": {},
   "outputs": [
    {
     "data": {
      "text/plain": [
       "array([[-0.99991201, -0.999956  , -1.        , ..., -0.99983503,\n",
       "        -0.99982404, -0.99970306],\n",
       "       [-0.9999395 , -0.99991201, -0.99994501, ..., -0.99987353,\n",
       "        -0.99983503, -0.99982404],\n",
       "       [-0.99995326, -0.9999395 , -0.99990102, ..., -0.99998351,\n",
       "        -0.99987353, -0.99983503],\n",
       "       ...,\n",
       "       [ 0.94256426,  0.93834111,  0.94013628, ...,  0.97423851,\n",
       "         0.94509855,  0.9524891 ],\n",
       "       [ 0.92936671,  0.94256426,  0.93834145, ...,  0.97603334,\n",
       "         0.97423851,  0.94509855],\n",
       "       [ 0.96410274,  0.92936671,  0.94256457, ...,  0.97244367,\n",
       "         0.97603334,  0.97423851]])"
      ]
     },
     "execution_count": 10,
     "metadata": {},
     "output_type": "execute_result"
    }
   ],
   "source": [
    "scaler = MinMaxScaler(feature_range=(-1, 1))\n",
    "scaled_data = scaler.fit_transform(data)\n",
    "\n",
    "scaled_data"
   ]
  },
  {
   "cell_type": "code",
   "execution_count": 11,
   "metadata": {},
   "outputs": [
    {
     "data": {
      "text/plain": [
       "((6812, 7), (6812,))"
      ]
     },
     "execution_count": 11,
     "metadata": {},
     "output_type": "execute_result"
    }
   ],
   "source": [
    "x = scaled_data[:, 1:]\n",
    "y = scaled_data[:, 0]\n",
    "\n",
    "x = dc(np.flip(x, axis=1))\n",
    "\n",
    "x.shape, y.shape"
   ]
  },
  {
   "cell_type": "markdown",
   "metadata": {},
   "source": [
    "## Partition train and test data"
   ]
  },
  {
   "cell_type": "code",
   "execution_count": 12,
   "metadata": {},
   "outputs": [
    {
     "data": {
      "text/plain": [
       "6471"
      ]
     },
     "execution_count": 12,
     "metadata": {},
     "output_type": "execute_result"
    }
   ],
   "source": [
    "split_index = int(len(x) * 0.95)\n",
    "split_index"
   ]
  },
  {
   "cell_type": "code",
   "execution_count": 13,
   "metadata": {},
   "outputs": [
    {
     "data": {
      "text/plain": [
       "((6471, 7), (341, 7), (6471,), (341,))"
      ]
     },
     "execution_count": 13,
     "metadata": {},
     "output_type": "execute_result"
    }
   ],
   "source": [
    "x_train = x[:split_index]\n",
    "x_test = x[split_index:]\n",
    "\n",
    "y_train = y[:split_index]\n",
    "y_test = y[split_index:]\n",
    "\n",
    "x_train.shape, x_test.shape, y_train.shape, y_test.shape"
   ]
  },
  {
   "cell_type": "code",
   "execution_count": 14,
   "metadata": {},
   "outputs": [
    {
     "data": {
      "text/plain": [
       "((6471, 7, 1), (341, 7, 1), (6471, 1), (341, 1))"
      ]
     },
     "execution_count": 14,
     "metadata": {},
     "output_type": "execute_result"
    }
   ],
   "source": [
    "x_train = x_train.reshape((-1, lookback, 1))\n",
    "x_test = x_test.reshape((-1, lookback, 1))\n",
    "\n",
    "y_train = y_train.reshape((-1, 1))\n",
    "y_test = y_test.reshape((-1, 1))\n",
    "\n",
    "x_train.shape, x_test.shape, y_train.shape, y_test.shape"
   ]
  },
  {
   "cell_type": "code",
   "execution_count": 15,
   "metadata": {},
   "outputs": [
    {
     "data": {
      "text/plain": [
       "(torch.Size([6471, 7, 1]),\n",
       " torch.Size([341, 7, 1]),\n",
       " torch.Size([6471, 1]),\n",
       " torch.Size([341, 1]))"
      ]
     },
     "execution_count": 15,
     "metadata": {},
     "output_type": "execute_result"
    }
   ],
   "source": [
    "x_train = torch.tensor(x_train).float()\n",
    "x_test = torch.tensor(x_test).float()\n",
    "\n",
    "y_train = torch.tensor(y_train).float()\n",
    "y_test = torch.tensor(y_test).float()\n",
    "\n",
    "x_train.shape, x_test.shape, y_train.shape, y_test.shape"
   ]
  },
  {
   "cell_type": "code",
   "execution_count": 16,
   "metadata": {},
   "outputs": [],
   "source": [
    "class TimeSeriesDataset(Dataset):\n",
    "    def __init__(self, x, y):\n",
    "        self.x = x\n",
    "        self.y = y\n",
    "\n",
    "    def __len__(self):\n",
    "        return len(self.x)\n",
    "    \n",
    "    def __getitem__(self, i):\n",
    "        return self.x[i], self.y[i]\n",
    "    \n",
    "train_set = TimeSeriesDataset(x_train, y_train)\n",
    "test_set = TimeSeriesDataset(x_test, y_test)"
   ]
  },
  {
   "cell_type": "code",
   "execution_count": 17,
   "metadata": {},
   "outputs": [],
   "source": [
    "train_loader = DataLoader(train_set, batch_size=16, shuffle=True)\n",
    "test_loader = DataLoader(test_set, batch_size=16, shuffle=False)"
   ]
  },
  {
   "cell_type": "markdown",
   "metadata": {},
   "source": [
    "## Create LSTM class"
   ]
  },
  {
   "cell_type": "code",
   "execution_count": 18,
   "metadata": {},
   "outputs": [],
   "source": [
    "class LSTM(nn.Module):\n",
    "    def __init__(self, input, hidden, stacked):\n",
    "        super().__init__()\n",
    "\n",
    "        self.hidden = hidden\n",
    "        self.stacked = stacked\n",
    "\n",
    "        self.lstm = nn.LSTM(input, hidden, stacked, batch_first=True)\n",
    "\n",
    "        self.fc = nn.Linear(hidden, 1)\n",
    "\n",
    "    def forward(self, x):\n",
    "        batch_size = x.size(0)\n",
    "\n",
    "        h0 = torch.zeros(self.stacked, batch_size, self.hidden).to(device)\n",
    "        c0 = torch.zeros(self.stacked, batch_size, self.hidden).to(device)\n",
    "\n",
    "        x, _ = self.lstm(x, (h0, c0))\n",
    "        x = self.fc(x[:, -1, :])\n",
    "\n",
    "        return x"
   ]
  },
  {
   "cell_type": "code",
   "execution_count": 19,
   "metadata": {},
   "outputs": [
    {
     "data": {
      "text/plain": [
       "LSTM(\n",
       "  (lstm): LSTM(1, 4, batch_first=True)\n",
       "  (fc): Linear(in_features=4, out_features=1, bias=True)\n",
       ")"
      ]
     },
     "execution_count": 19,
     "metadata": {},
     "output_type": "execute_result"
    }
   ],
   "source": [
    "model = LSTM(1, 4, 1)\n",
    "model.to(device)\n",
    "model"
   ]
  },
  {
   "cell_type": "markdown",
   "metadata": {},
   "source": [
    "## Train and validate"
   ]
  },
  {
   "cell_type": "code",
   "execution_count": 20,
   "metadata": {},
   "outputs": [],
   "source": [
    "lr = 0.001\n",
    "epochs = 10\n",
    "loss_fn = nn.MSELoss()\n",
    "optimizer = torch.optim.Adam(model.parameters(), lr=lr)"
   ]
  },
  {
   "cell_type": "code",
   "execution_count": 21,
   "metadata": {},
   "outputs": [
    {
     "name": "stdout",
     "output_type": "stream",
     "text": [
      "Epoch: 1\n",
      "Train loss: 0.2676222022093924\n",
      "Test loss: 0.20408352795162832\n",
      "\n",
      "Epoch: 2\n",
      "Train loss: 0.015552496691349388\n",
      "Test loss: 0.07244653080521278\n",
      "\n",
      "Epoch: 3\n",
      "Train loss: 0.003943684578687815\n",
      "Test loss: 0.021638110946779223\n",
      "\n",
      "Epoch: 4\n",
      "Train loss: 0.00114244442667746\n",
      "Test loss: 0.01113428581183226\n",
      "\n",
      "Epoch: 5\n",
      "Train loss: 0.0008442421407111127\n",
      "Test loss: 0.008029155028370124\n",
      "\n",
      "Epoch: 6\n",
      "Train loss: 0.0007229477032209907\n",
      "Test loss: 0.006966814430515197\n",
      "\n",
      "Epoch: 7\n",
      "Train loss: 0.0006462855766136429\n",
      "Test loss: 0.004992344972296533\n",
      "\n",
      "Epoch: 8\n",
      "Train loss: 0.00057745510412245\n",
      "Test loss: 0.003989064491840757\n",
      "\n",
      "Epoch: 9\n",
      "Train loss: 0.0005259562059277582\n",
      "Test loss: 0.00525432187714614\n",
      "\n",
      "Epoch: 10\n",
      "Train loss: 0.0004787287442080991\n",
      "Test loss: 0.0026789182897614824\n",
      "\n"
     ]
    }
   ],
   "source": [
    "for epoch in range(1, epochs + 1):\n",
    "    model.train()\n",
    "    total_loss = 0\n",
    "\n",
    "    for batch_index, batch in enumerate(train_loader):\n",
    "        x_batch, y_batch = batch[0].to(device), batch[1].to(device)\n",
    "\n",
    "        output = model(x_batch)\n",
    "\n",
    "        loss = loss_fn(output, y_batch)\n",
    "        total_loss += loss.item()\n",
    "\n",
    "        optimizer.zero_grad()\n",
    "        loss.backward()\n",
    "        optimizer.step()\n",
    "\n",
    "    average_loss = total_loss / len(train_loader)\n",
    "\n",
    "    print(f'Epoch: {epoch}\\nTrain loss: {average_loss}')\n",
    "\n",
    "    model.train(False)\n",
    "    total_loss = 0\n",
    "\n",
    "    for batch_index, batch in enumerate(test_loader):\n",
    "        x_batch, y_batch = batch[0].to(device), batch[1].to(device)\n",
    "\n",
    "        with torch.no_grad():\n",
    "            output = model(x_batch)\n",
    "\n",
    "            loss = loss_fn(output, y_batch)\n",
    "            total_loss += loss.item()\n",
    "\n",
    "    average_loss = total_loss / len(test_loader)\n",
    "\n",
    "    print(f'Test loss: {average_loss}\\n')\n"
   ]
  },
  {
   "cell_type": "markdown",
   "metadata": {},
   "source": [
    "## Plot train results"
   ]
  },
  {
   "cell_type": "code",
   "execution_count": 22,
   "metadata": {},
   "outputs": [
    {
     "data": {
      "image/png": "[encoded data removed]",
      "text/plain": [
       "<Figure size 640x480 with 1 Axes>"
      ]
     },
     "metadata": {},
     "output_type": "display_data"
    }
   ],
   "source": [
    "with torch.no_grad():\n",
    "    train_predicted = model(x_train.to(device)).to('cpu').numpy()\n",
    "\n",
    "plt.plot(y_train, label='Actual closing value')\n",
    "plt.plot(train_predicted, label='Predicted closing value')\n",
    "\n",
    "plt.xlabel('Day')\n",
    "plt.ylabel('Close value')\n",
    "\n",
    "plt.legend()\n",
    "plt.show()"
   ]
  },
  {
   "cell_type": "markdown",
   "metadata": {},
   "source": [
    "## Rescale data"
   ]
  },
  {
   "cell_type": "code",
   "execution_count": 23,
   "metadata": {},
   "outputs": [
    {
     "data": {
      "text/plain": [
       "array([  0.64028743,   0.63991483,   0.63941239, ..., 104.29000519,\n",
       "       103.85369538, 102.9113533 ])"
      ]
     },
     "execution_count": 23,
     "metadata": {},
     "output_type": "execute_result"
    }
   ],
   "source": [
    "temp = np.zeros((x_train.shape[0], lookback + 1))\n",
    "temp[:, 0] = train_predicted.flatten()\n",
    "temp = scaler.inverse_transform(temp)\n",
    "\n",
    "rescaled_train_predictions = dc(temp[:, 0])\n",
    "rescaled_train_predictions"
   ]
  },
  {
   "cell_type": "code",
   "execution_count": 24,
   "metadata": {},
   "outputs": [],
   "source": [
    "temp = np.zeros((x_train.shape[0], lookback + 1))\n",
    "temp[:, 0] = y_train.flatten()\n",
    "temp = scaler.inverse_transform(temp)\n",
    "\n",
    "rescaled_y_train = dc(temp[:, 0])"
   ]
  },
  {
   "cell_type": "code",
   "execution_count": 25,
   "metadata": {},
   "outputs": [
    {
     "data": {
      "image/png": "[encoded data removed]",
      "text/plain": [
       "<Figure size 640x480 with 1 Axes>"
      ]
     },
     "metadata": {},
     "output_type": "display_data"
    }
   ],
   "source": [
    "plt.plot(rescaled_y_train, label='Actual closing value')\n",
    "plt.plot(rescaled_train_predictions, label='Predicted closing value')\n",
    "\n",
    "plt.xlabel('Day')\n",
    "plt.ylabel('Close value')\n",
    "\n",
    "plt.legend()\n",
    "plt.show()"
   ]
  },
  {
   "cell_type": "markdown",
   "metadata": {},
   "source": [
    "## Plot test results"
   ]
  },
  {
   "cell_type": "code",
   "execution_count": 26,
   "metadata": {},
   "outputs": [
    {
     "data": {
      "text/plain": [
       "array([101.55132003, 100.26310015,  99.74636837,  99.62930617,\n",
       "       100.01908424,  99.39670179,  98.82681124,  97.67635377,\n",
       "        97.24708451,  96.82150525,  95.77950653,  95.1656021 ,\n",
       "        94.93892048,  94.15599191,  93.67635202,  94.16102763,\n",
       "        94.0969012 ,  94.07955209,  94.19514931,  93.75922586,\n",
       "        93.04458757,  93.06133544,  93.72276168,  94.56568246,\n",
       "        96.32742788,  97.20321671,  97.58394445,  98.80980509,\n",
       "        98.98774761,  99.09988559,  98.9497447 ,  98.72815243,\n",
       "        98.34929262,  99.01262631,  99.86305657, 100.87800805,\n",
       "       101.35785893, 102.24096282, 102.02855426, 102.25913334,\n",
       "       102.31704274, 101.61306832, 100.48682286, 101.09487438,\n",
       "       101.38720811, 101.74971805, 101.88046478, 102.61021129,\n",
       "       103.02421178, 104.31928733, 104.82647127, 104.1899449 ,\n",
       "       104.54700206, 106.12980396, 105.81608323, 104.75905143,\n",
       "       104.4450068 , 104.18163906, 104.16517276, 104.51200111,\n",
       "       104.6385808 , 105.13456844, 106.62953805, 108.15263813,\n",
       "       108.72805978, 109.53468151, 110.70435091, 112.12017796,\n",
       "       113.84728126, 114.43910853, 114.59947824, 114.92054508,\n",
       "       115.61888748, 115.48458837, 116.70048113, 117.73970019,\n",
       "       118.36115467, 119.62173383, 121.0092815 , 122.306985  ,\n",
       "       123.86180957, 123.36662075, 123.88498405, 124.08239906,\n",
       "       124.8961171 , 125.33917602, 125.56113171, 125.8839938 ,\n",
       "       126.19743367, 126.36946684, 126.32431469, 127.39510017,\n",
       "       127.87190182, 127.83628481, 128.34020992, 128.84880381,\n",
       "       129.00326275, 129.87790908, 129.99102936, 130.23221903,\n",
       "       130.13468578, 130.31906267, 129.78064116, 129.91964291,\n",
       "       130.22324845, 131.27006625, 132.13541456, 132.84687412,\n",
       "       133.28508926, 134.6503375 , 134.30318877, 133.95422221,\n",
       "       132.92966434, 132.07606981, 131.14313442, 130.40963793,\n",
       "       130.53109369, 131.36207828, 131.55474266, 131.10298978,\n",
       "       131.03180656, 133.64929283, 136.08079044, 137.19288916,\n",
       "       137.76152783, 138.90583655, 140.39615927, 142.12053018,\n",
       "       141.60677355, 140.33128764, 139.28759176, 138.41030336,\n",
       "       137.84879205, 137.13723087, 136.56728247, 135.47232891,\n",
       "       135.27403039, 135.14055833, 135.50825924, 135.63385875,\n",
       "       136.47641082, 137.05058765, 137.81043418, 137.97291528,\n",
       "       138.80752705, 139.3571378 , 140.89321954, 141.35538259,\n",
       "       142.66825818, 143.88972016, 144.37386651, 144.61119471,\n",
       "       144.24980256, 142.82196628, 140.30346697, 137.58487953,\n",
       "       135.64423787, 132.93163177, 130.72732034, 129.05263767,\n",
       "       128.14992227, 128.45785784, 127.40667894, 127.12245981,\n",
       "       127.01263928, 127.46506962, 127.83496095, 128.33115183,\n",
       "       129.12482013, 130.29927826, 130.50845552, 131.62437056,\n",
       "       132.06154977, 131.63638121, 131.31461433, 129.93040875,\n",
       "       129.12604236, 129.07634283, 126.79979531, 124.73553005,\n",
       "       125.48481116, 127.00392274, 128.41074674, 130.45980322,\n",
       "       132.27776406, 134.82191902, 137.72357643, 140.13775386,\n",
       "       141.56318519, 142.55534395, 143.72473249, 144.38564288,\n",
       "       145.6474358 , 146.01306766, 146.01779289, 146.64025225,\n",
       "       147.50519409, 147.46061778, 148.16673677, 148.39005865,\n",
       "       149.13010102, 149.69288255, 149.82062732, 149.83475219,\n",
       "       150.29460626, 149.90998882, 149.99295969, 149.42318347,\n",
       "       149.51203123, 149.71865394, 149.61153192, 149.78203517,\n",
       "       150.42489147, 150.49003972, 151.36051408, 152.58566253,\n",
       "       153.52734833, 154.31829553, 155.25164303, 155.90118352,\n",
       "       156.67215719, 157.05847391, 156.97694826, 156.70171666,\n",
       "       156.29660067, 155.49722484, 154.07529368, 152.88794703,\n",
       "       152.43548847, 152.29586571, 152.70175513, 153.55064137,\n",
       "       154.46819296, 155.60577515, 156.38829373, 157.00376405,\n",
       "       157.56098484, 157.6638502 , 157.82110928, 158.17174123,\n",
       "       158.81175789, 159.7609634 , 160.74933125, 161.13792872,\n",
       "       161.05198271, 161.52812384, 163.50471842, 164.80856414,\n",
       "       165.75464773, 166.70126764, 167.7577476 , 169.47674689,\n",
       "       170.41927386, 170.11199315, 170.18444659, 170.2161739 ,\n",
       "       170.12471795, 169.81294913, 169.38355214, 169.71194676,\n",
       "       170.23834915, 170.5381666 , 170.80595753, 171.08534417,\n",
       "       171.81424245, 172.47188978, 172.67526637, 172.57070737,\n",
       "       172.45941338, 172.70812276, 172.82730342, 172.44318277,\n",
       "       172.28583337, 172.28976259, 172.64046794, 172.63745328,\n",
       "       172.4668089 , 172.5399793 , 172.95585548, 173.14124008,\n",
       "       173.28712362, 173.39588281, 173.62507594, 173.94036186,\n",
       "       174.20312836, 174.37743099, 174.51897318, 174.72637496,\n",
       "       174.74217087, 175.12141386, 175.43962412, 175.71947933,\n",
       "       175.97436481, 176.38637387, 176.58321305, 176.68426623,\n",
       "       176.56641225, 176.35090928, 175.99073655, 175.31906598,\n",
       "       174.69827766, 174.40437097, 174.00599562, 173.38832358,\n",
       "       173.35564219, 173.55656301, 173.50633563, 173.59932149,\n",
       "       174.01243141, 174.63712072, 175.44393722, 175.92471326,\n",
       "       176.29908989, 176.95094501, 177.29632107, 177.34162564,\n",
       "       177.35070349, 177.23270837, 176.98837985, 176.81455144,\n",
       "       176.55811347, 176.3503278 , 176.18060362, 175.88158783,\n",
       "       175.61096854, 175.53471572, 175.41975221, 175.17917789,\n",
       "       174.75980154, 174.49626727, 174.42379125, 174.47912775,\n",
       "       174.69683243, 174.87339322, 175.32148787, 175.88515574,\n",
       "       176.29989154, 176.47762094, 176.53259613, 176.48151629,\n",
       "       176.38696664])"
      ]
     },
     "execution_count": 26,
     "metadata": {},
     "output_type": "execute_result"
    }
   ],
   "source": [
    "with torch.no_grad():\n",
    "    test_predicted = model(x_test.to(device)).cpu().numpy()\n",
    "\n",
    "temp = np.zeros((x_test.shape[0], lookback + 1))\n",
    "temp[:, 0] = test_predicted.flatten()\n",
    "temp = scaler.inverse_transform(temp)\n",
    "\n",
    "rescaled_test_predictions = dc(temp[:, 0])\n",
    "rescaled_test_predictions"
   ]
  },
  {
   "cell_type": "code",
   "execution_count": 27,
   "metadata": {},
   "outputs": [],
   "source": [
    "temp = np.zeros((x_test.shape[0], lookback + 1))\n",
    "temp[:, 0] = y_test.flatten()\n",
    "temp = scaler.inverse_transform(temp)\n",
    "\n",
    "rescaled_y_test = dc(temp[:, 0])"
   ]
  },
  {
   "cell_type": "code",
   "execution_count": 28,
   "metadata": {},
   "outputs": [
    {
     "data": {
      "image/png": "[encoded data removed]",
      "text/plain": [
       "<Figure size 640x480 with 1 Axes>"
      ]
     },
     "metadata": {},
     "output_type": "display_data"
    }
   ],
   "source": [
    "plt.plot(rescaled_y_test, label='Actual closing value')\n",
    "plt.plot(rescaled_test_predictions, label='Predicted closing value')\n",
    "\n",
    "plt.xlabel('Day')\n",
    "plt.ylabel('Close value')\n",
    "\n",
    "plt.legend()\n",
    "plt.show()"
   ]
  }
 ],
 "metadata": {
  "kernelspec": {
   "display_name": "Python 3",
   "language": "python",
   "name": "python3"
  },
  "language_info": {
   "codemirror_mode": {
    "name": "ipython",
    "version": 3
   },
   "file_extension": ".py",
   "mimetype": "text/x-python",
   "name": "python",
   "nbconvert_exporter": "python",
   "pygments_lexer": "ipython3",
   "version": "3.11.0"
  }
 },
 "nbformat": 4,
 "nbformat_minor": 2
}
