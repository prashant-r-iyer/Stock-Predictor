{
 "cells": [
  {
   "cell_type": "markdown",
   "metadata": {},
   "source": [
    "## Import libraries"
   ]
  },
  {
   "cell_type": "code",
   "execution_count": 1,
   "metadata": {},
   "outputs": [],
   "source": [
    "import yfinance as yf\n",
    "\n",
    "from copy import deepcopy as dc\n",
    "import pandas as pd\n",
    "import numpy as np\n",
    "import matplotlib.pyplot as plt\n",
    "\n",
    "from sklearn.preprocessing import MinMaxScaler\n",
    "\n",
    "import torch\n",
    "import torch.nn as nn\n",
    "from torch.utils.data import Dataset, DataLoader"
   ]
  },
  {
   "cell_type": "markdown",
   "metadata": {},
   "source": [
    "## Download data"
   ]
  },
  {
   "cell_type": "code",
   "execution_count": 2,
   "metadata": {},
   "outputs": [
    {
     "data": {
      "text/html": [
       "<div>\n",
       "<style scoped>\n",
       "    .dataframe tbody tr th:only-of-type {\n",
       "        vertical-align: middle;\n",
       "    }\n",
       "\n",
       "    .dataframe tbody tr th {\n",
       "        vertical-align: top;\n",
       "    }\n",
       "\n",
       "    .dataframe thead th {\n",
       "        text-align: right;\n",
       "    }\n",
       "</style>\n",
       "<table border=\"1\" class=\"dataframe\">\n",
       "  <thead>\n",
       "    <tr style=\"text-align: right;\">\n",
       "      <th></th>\n",
       "      <th>Open</th>\n",
       "      <th>High</th>\n",
       "      <th>Low</th>\n",
       "      <th>Close</th>\n",
       "      <th>Volume</th>\n",
       "      <th>Dividends</th>\n",
       "      <th>Stock Splits</th>\n",
       "    </tr>\n",
       "    <tr>\n",
       "      <th>Date</th>\n",
       "      <th></th>\n",
       "      <th></th>\n",
       "      <th></th>\n",
       "      <th></th>\n",
       "      <th></th>\n",
       "      <th></th>\n",
       "      <th></th>\n",
       "    </tr>\n",
       "  </thead>\n",
       "  <tbody>\n",
       "    <tr>\n",
       "      <th>1997-05-15 00:00:00-04:00</th>\n",
       "      <td>0.121875</td>\n",
       "      <td>0.125000</td>\n",
       "      <td>0.096354</td>\n",
       "      <td>0.097917</td>\n",
       "      <td>1443120000</td>\n",
       "      <td>0.0</td>\n",
       "      <td>0.0</td>\n",
       "    </tr>\n",
       "    <tr>\n",
       "      <th>1997-05-16 00:00:00-04:00</th>\n",
       "      <td>0.098438</td>\n",
       "      <td>0.098958</td>\n",
       "      <td>0.085417</td>\n",
       "      <td>0.086458</td>\n",
       "      <td>294000000</td>\n",
       "      <td>0.0</td>\n",
       "      <td>0.0</td>\n",
       "    </tr>\n",
       "    <tr>\n",
       "      <th>1997-05-19 00:00:00-04:00</th>\n",
       "      <td>0.088021</td>\n",
       "      <td>0.088542</td>\n",
       "      <td>0.081250</td>\n",
       "      <td>0.085417</td>\n",
       "      <td>122136000</td>\n",
       "      <td>0.0</td>\n",
       "      <td>0.0</td>\n",
       "    </tr>\n",
       "    <tr>\n",
       "      <th>1997-05-20 00:00:00-04:00</th>\n",
       "      <td>0.086458</td>\n",
       "      <td>0.087500</td>\n",
       "      <td>0.081771</td>\n",
       "      <td>0.081771</td>\n",
       "      <td>109344000</td>\n",
       "      <td>0.0</td>\n",
       "      <td>0.0</td>\n",
       "    </tr>\n",
       "    <tr>\n",
       "      <th>1997-05-21 00:00:00-04:00</th>\n",
       "      <td>0.081771</td>\n",
       "      <td>0.082292</td>\n",
       "      <td>0.068750</td>\n",
       "      <td>0.071354</td>\n",
       "      <td>377064000</td>\n",
       "      <td>0.0</td>\n",
       "      <td>0.0</td>\n",
       "    </tr>\n",
       "    <tr>\n",
       "      <th>...</th>\n",
       "      <td>...</td>\n",
       "      <td>...</td>\n",
       "      <td>...</td>\n",
       "      <td>...</td>\n",
       "      <td>...</td>\n",
       "      <td>...</td>\n",
       "      <td>...</td>\n",
       "    </tr>\n",
       "    <tr>\n",
       "      <th>2024-06-12 00:00:00-04:00</th>\n",
       "      <td>188.020004</td>\n",
       "      <td>188.350006</td>\n",
       "      <td>185.429993</td>\n",
       "      <td>186.889999</td>\n",
       "      <td>33984200</td>\n",
       "      <td>0.0</td>\n",
       "      <td>0.0</td>\n",
       "    </tr>\n",
       "    <tr>\n",
       "      <th>2024-06-13 00:00:00-04:00</th>\n",
       "      <td>186.089996</td>\n",
       "      <td>187.669998</td>\n",
       "      <td>182.669998</td>\n",
       "      <td>183.830002</td>\n",
       "      <td>39721500</td>\n",
       "      <td>0.0</td>\n",
       "      <td>0.0</td>\n",
       "    </tr>\n",
       "    <tr>\n",
       "      <th>2024-06-14 00:00:00-04:00</th>\n",
       "      <td>183.080002</td>\n",
       "      <td>183.720001</td>\n",
       "      <td>182.229996</td>\n",
       "      <td>183.660004</td>\n",
       "      <td>25456400</td>\n",
       "      <td>0.0</td>\n",
       "      <td>0.0</td>\n",
       "    </tr>\n",
       "    <tr>\n",
       "      <th>2024-06-17 00:00:00-04:00</th>\n",
       "      <td>182.520004</td>\n",
       "      <td>185.000000</td>\n",
       "      <td>181.220001</td>\n",
       "      <td>184.059998</td>\n",
       "      <td>35601900</td>\n",
       "      <td>0.0</td>\n",
       "      <td>0.0</td>\n",
       "    </tr>\n",
       "    <tr>\n",
       "      <th>2024-06-18 00:00:00-04:00</th>\n",
       "      <td>183.740005</td>\n",
       "      <td>184.289993</td>\n",
       "      <td>181.429993</td>\n",
       "      <td>182.809998</td>\n",
       "      <td>36659200</td>\n",
       "      <td>0.0</td>\n",
       "      <td>0.0</td>\n",
       "    </tr>\n",
       "  </tbody>\n",
       "</table>\n",
       "<p>6818 rows × 7 columns</p>\n",
       "</div>"
      ],
      "text/plain": [
       "                                 Open        High         Low       Close  \\\n",
       "Date                                                                        \n",
       "1997-05-15 00:00:00-04:00    0.121875    0.125000    0.096354    0.097917   \n",
       "1997-05-16 00:00:00-04:00    0.098438    0.098958    0.085417    0.086458   \n",
       "1997-05-19 00:00:00-04:00    0.088021    0.088542    0.081250    0.085417   \n",
       "1997-05-20 00:00:00-04:00    0.086458    0.087500    0.081771    0.081771   \n",
       "1997-05-21 00:00:00-04:00    0.081771    0.082292    0.068750    0.071354   \n",
       "...                               ...         ...         ...         ...   \n",
       "2024-06-12 00:00:00-04:00  188.020004  188.350006  185.429993  186.889999   \n",
       "2024-06-13 00:00:00-04:00  186.089996  187.669998  182.669998  183.830002   \n",
       "2024-06-14 00:00:00-04:00  183.080002  183.720001  182.229996  183.660004   \n",
       "2024-06-17 00:00:00-04:00  182.520004  185.000000  181.220001  184.059998   \n",
       "2024-06-18 00:00:00-04:00  183.740005  184.289993  181.429993  182.809998   \n",
       "\n",
       "                               Volume  Dividends  Stock Splits  \n",
       "Date                                                            \n",
       "1997-05-15 00:00:00-04:00  1443120000        0.0           0.0  \n",
       "1997-05-16 00:00:00-04:00   294000000        0.0           0.0  \n",
       "1997-05-19 00:00:00-04:00   122136000        0.0           0.0  \n",
       "1997-05-20 00:00:00-04:00   109344000        0.0           0.0  \n",
       "1997-05-21 00:00:00-04:00   377064000        0.0           0.0  \n",
       "...                               ...        ...           ...  \n",
       "2024-06-12 00:00:00-04:00    33984200        0.0           0.0  \n",
       "2024-06-13 00:00:00-04:00    39721500        0.0           0.0  \n",
       "2024-06-14 00:00:00-04:00    25456400        0.0           0.0  \n",
       "2024-06-17 00:00:00-04:00    35601900        0.0           0.0  \n",
       "2024-06-18 00:00:00-04:00    36659200        0.0           0.0  \n",
       "\n",
       "[6818 rows x 7 columns]"
      ]
     },
     "execution_count": 2,
     "metadata": {},
     "output_type": "execute_result"
    }
   ],
   "source": [
    "stock_data = yf.Ticker(\"AMZN\").history(period=\"max\")\n",
    "stock_data"
   ]
  },
  {
   "cell_type": "code",
   "execution_count": 3,
   "metadata": {},
   "outputs": [
    {
     "data": {
      "text/html": [
       "<div>\n",
       "<style scoped>\n",
       "    .dataframe tbody tr th:only-of-type {\n",
       "        vertical-align: middle;\n",
       "    }\n",
       "\n",
       "    .dataframe tbody tr th {\n",
       "        vertical-align: top;\n",
       "    }\n",
       "\n",
       "    .dataframe thead th {\n",
       "        text-align: right;\n",
       "    }\n",
       "</style>\n",
       "<table border=\"1\" class=\"dataframe\">\n",
       "  <thead>\n",
       "    <tr style=\"text-align: right;\">\n",
       "      <th></th>\n",
       "      <th>Date</th>\n",
       "      <th>Close</th>\n",
       "    </tr>\n",
       "  </thead>\n",
       "  <tbody>\n",
       "    <tr>\n",
       "      <th>0</th>\n",
       "      <td>1997-05-15 00:00:00-04:00</td>\n",
       "      <td>0.097917</td>\n",
       "    </tr>\n",
       "    <tr>\n",
       "      <th>1</th>\n",
       "      <td>1997-05-16 00:00:00-04:00</td>\n",
       "      <td>0.086458</td>\n",
       "    </tr>\n",
       "    <tr>\n",
       "      <th>2</th>\n",
       "      <td>1997-05-19 00:00:00-04:00</td>\n",
       "      <td>0.085417</td>\n",
       "    </tr>\n",
       "    <tr>\n",
       "      <th>3</th>\n",
       "      <td>1997-05-20 00:00:00-04:00</td>\n",
       "      <td>0.081771</td>\n",
       "    </tr>\n",
       "    <tr>\n",
       "      <th>4</th>\n",
       "      <td>1997-05-21 00:00:00-04:00</td>\n",
       "      <td>0.071354</td>\n",
       "    </tr>\n",
       "    <tr>\n",
       "      <th>...</th>\n",
       "      <td>...</td>\n",
       "      <td>...</td>\n",
       "    </tr>\n",
       "    <tr>\n",
       "      <th>6813</th>\n",
       "      <td>2024-06-12 00:00:00-04:00</td>\n",
       "      <td>186.889999</td>\n",
       "    </tr>\n",
       "    <tr>\n",
       "      <th>6814</th>\n",
       "      <td>2024-06-13 00:00:00-04:00</td>\n",
       "      <td>183.830002</td>\n",
       "    </tr>\n",
       "    <tr>\n",
       "      <th>6815</th>\n",
       "      <td>2024-06-14 00:00:00-04:00</td>\n",
       "      <td>183.660004</td>\n",
       "    </tr>\n",
       "    <tr>\n",
       "      <th>6816</th>\n",
       "      <td>2024-06-17 00:00:00-04:00</td>\n",
       "      <td>184.059998</td>\n",
       "    </tr>\n",
       "    <tr>\n",
       "      <th>6817</th>\n",
       "      <td>2024-06-18 00:00:00-04:00</td>\n",
       "      <td>182.809998</td>\n",
       "    </tr>\n",
       "  </tbody>\n",
       "</table>\n",
       "<p>6818 rows × 2 columns</p>\n",
       "</div>"
      ],
      "text/plain": [
       "                          Date       Close\n",
       "0    1997-05-15 00:00:00-04:00    0.097917\n",
       "1    1997-05-16 00:00:00-04:00    0.086458\n",
       "2    1997-05-19 00:00:00-04:00    0.085417\n",
       "3    1997-05-20 00:00:00-04:00    0.081771\n",
       "4    1997-05-21 00:00:00-04:00    0.071354\n",
       "...                        ...         ...\n",
       "6813 2024-06-12 00:00:00-04:00  186.889999\n",
       "6814 2024-06-13 00:00:00-04:00  183.830002\n",
       "6815 2024-06-14 00:00:00-04:00  183.660004\n",
       "6816 2024-06-17 00:00:00-04:00  184.059998\n",
       "6817 2024-06-18 00:00:00-04:00  182.809998\n",
       "\n",
       "[6818 rows x 2 columns]"
      ]
     },
     "execution_count": 3,
     "metadata": {},
     "output_type": "execute_result"
    }
   ],
   "source": [
    "stock_data['Date'] = stock_data.index\n",
    "stock_data = stock_data[['Date', 'Close']]\n",
    "stock_data = stock_data.reset_index(drop=True)\n",
    "stock_data"
   ]
  },
  {
   "cell_type": "code",
   "execution_count": 4,
   "metadata": {},
   "outputs": [
    {
     "data": {
      "text/plain": [
       "'cuda'"
      ]
     },
     "execution_count": 4,
     "metadata": {},
     "output_type": "execute_result"
    }
   ],
   "source": [
    "device = 'cuda' if torch.cuda.is_available() else 'cpu'\n",
    "device"
   ]
  },
  {
   "cell_type": "code",
   "execution_count": 5,
   "metadata": {},
   "outputs": [
    {
     "data": {
      "text/plain": [
       "<Axes: xlabel='Date'>"
      ]
     },
     "execution_count": 5,
     "metadata": {},
     "output_type": "execute_result"
    },
    {
     "data": {
      "image/png": "[encoded data removed]",
      "text/plain": [
       "<Figure size 640x480 with 1 Axes>"
      ]
     },
     "metadata": {},
     "output_type": "display_data"
    }
   ],
   "source": [
    "stock_data['Date'] = pd.to_datetime(stock_data['Date'])\n",
    "stock_data.plot.line(x='Date', y='Close')"
   ]
  },
  {
   "cell_type": "code",
   "execution_count": 6,
   "metadata": {},
   "outputs": [
    {
     "data": {
      "text/html": [
       "<div>\n",
       "<style scoped>\n",
       "    .dataframe tbody tr th:only-of-type {\n",
       "        vertical-align: middle;\n",
       "    }\n",
       "\n",
       "    .dataframe tbody tr th {\n",
       "        vertical-align: top;\n",
       "    }\n",
       "\n",
       "    .dataframe thead th {\n",
       "        text-align: right;\n",
       "    }\n",
       "</style>\n",
       "<table border=\"1\" class=\"dataframe\">\n",
       "  <thead>\n",
       "    <tr style=\"text-align: right;\">\n",
       "      <th></th>\n",
       "      <th>Close</th>\n",
       "    </tr>\n",
       "    <tr>\n",
       "      <th>Date</th>\n",
       "      <th></th>\n",
       "    </tr>\n",
       "  </thead>\n",
       "  <tbody>\n",
       "    <tr>\n",
       "      <th>1997-05-15 00:00:00-04:00</th>\n",
       "      <td>0.097917</td>\n",
       "    </tr>\n",
       "    <tr>\n",
       "      <th>1997-05-16 00:00:00-04:00</th>\n",
       "      <td>0.086458</td>\n",
       "    </tr>\n",
       "    <tr>\n",
       "      <th>1997-05-19 00:00:00-04:00</th>\n",
       "      <td>0.085417</td>\n",
       "    </tr>\n",
       "    <tr>\n",
       "      <th>1997-05-20 00:00:00-04:00</th>\n",
       "      <td>0.081771</td>\n",
       "    </tr>\n",
       "    <tr>\n",
       "      <th>1997-05-21 00:00:00-04:00</th>\n",
       "      <td>0.071354</td>\n",
       "    </tr>\n",
       "    <tr>\n",
       "      <th>...</th>\n",
       "      <td>...</td>\n",
       "    </tr>\n",
       "    <tr>\n",
       "      <th>2024-06-12 00:00:00-04:00</th>\n",
       "      <td>186.889999</td>\n",
       "    </tr>\n",
       "    <tr>\n",
       "      <th>2024-06-13 00:00:00-04:00</th>\n",
       "      <td>183.830002</td>\n",
       "    </tr>\n",
       "    <tr>\n",
       "      <th>2024-06-14 00:00:00-04:00</th>\n",
       "      <td>183.660004</td>\n",
       "    </tr>\n",
       "    <tr>\n",
       "      <th>2024-06-17 00:00:00-04:00</th>\n",
       "      <td>184.059998</td>\n",
       "    </tr>\n",
       "    <tr>\n",
       "      <th>2024-06-18 00:00:00-04:00</th>\n",
       "      <td>182.809998</td>\n",
       "    </tr>\n",
       "  </tbody>\n",
       "</table>\n",
       "<p>6818 rows × 1 columns</p>\n",
       "</div>"
      ],
      "text/plain": [
       "                                Close\n",
       "Date                                 \n",
       "1997-05-15 00:00:00-04:00    0.097917\n",
       "1997-05-16 00:00:00-04:00    0.086458\n",
       "1997-05-19 00:00:00-04:00    0.085417\n",
       "1997-05-20 00:00:00-04:00    0.081771\n",
       "1997-05-21 00:00:00-04:00    0.071354\n",
       "...                               ...\n",
       "2024-06-12 00:00:00-04:00  186.889999\n",
       "2024-06-13 00:00:00-04:00  183.830002\n",
       "2024-06-14 00:00:00-04:00  183.660004\n",
       "2024-06-17 00:00:00-04:00  184.059998\n",
       "2024-06-18 00:00:00-04:00  182.809998\n",
       "\n",
       "[6818 rows x 1 columns]"
      ]
     },
     "execution_count": 6,
     "metadata": {},
     "output_type": "execute_result"
    }
   ],
   "source": [
    "df = dc(stock_data)\n",
    "df.set_index('Date', inplace=True)\n",
    "df"
   ]
  },
  {
   "cell_type": "markdown",
   "metadata": {},
   "source": [
    "## Create lookback columns"
   ]
  },
  {
   "cell_type": "code",
   "execution_count": 7,
   "metadata": {},
   "outputs": [
    {
     "data": {
      "text/html": [
       "<div>\n",
       "<style scoped>\n",
       "    .dataframe tbody tr th:only-of-type {\n",
       "        vertical-align: middle;\n",
       "    }\n",
       "\n",
       "    .dataframe tbody tr th {\n",
       "        vertical-align: top;\n",
       "    }\n",
       "\n",
       "    .dataframe thead th {\n",
       "        text-align: right;\n",
       "    }\n",
       "</style>\n",
       "<table border=\"1\" class=\"dataframe\">\n",
       "  <thead>\n",
       "    <tr style=\"text-align: right;\">\n",
       "      <th></th>\n",
       "      <th>Close</th>\n",
       "      <th>Close(t-1)</th>\n",
       "      <th>Close(t-2)</th>\n",
       "      <th>Close(t-3)</th>\n",
       "      <th>Close(t-4)</th>\n",
       "      <th>Close(t-5)</th>\n",
       "      <th>Close(t-6)</th>\n",
       "      <th>Close(t-7)</th>\n",
       "    </tr>\n",
       "    <tr>\n",
       "      <th>Date</th>\n",
       "      <th></th>\n",
       "      <th></th>\n",
       "      <th></th>\n",
       "      <th></th>\n",
       "      <th></th>\n",
       "      <th></th>\n",
       "      <th></th>\n",
       "      <th></th>\n",
       "    </tr>\n",
       "  </thead>\n",
       "  <tbody>\n",
       "    <tr>\n",
       "      <th>1997-05-15 00:00:00-04:00</th>\n",
       "      <td>0.097917</td>\n",
       "      <td>NaN</td>\n",
       "      <td>NaN</td>\n",
       "      <td>NaN</td>\n",
       "      <td>NaN</td>\n",
       "      <td>NaN</td>\n",
       "      <td>NaN</td>\n",
       "      <td>NaN</td>\n",
       "    </tr>\n",
       "    <tr>\n",
       "      <th>1997-05-16 00:00:00-04:00</th>\n",
       "      <td>0.086458</td>\n",
       "      <td>0.097917</td>\n",
       "      <td>NaN</td>\n",
       "      <td>NaN</td>\n",
       "      <td>NaN</td>\n",
       "      <td>NaN</td>\n",
       "      <td>NaN</td>\n",
       "      <td>NaN</td>\n",
       "    </tr>\n",
       "    <tr>\n",
       "      <th>1997-05-19 00:00:00-04:00</th>\n",
       "      <td>0.085417</td>\n",
       "      <td>0.086458</td>\n",
       "      <td>0.097917</td>\n",
       "      <td>NaN</td>\n",
       "      <td>NaN</td>\n",
       "      <td>NaN</td>\n",
       "      <td>NaN</td>\n",
       "      <td>NaN</td>\n",
       "    </tr>\n",
       "    <tr>\n",
       "      <th>1997-05-20 00:00:00-04:00</th>\n",
       "      <td>0.081771</td>\n",
       "      <td>0.085417</td>\n",
       "      <td>0.086458</td>\n",
       "      <td>0.097917</td>\n",
       "      <td>NaN</td>\n",
       "      <td>NaN</td>\n",
       "      <td>NaN</td>\n",
       "      <td>NaN</td>\n",
       "    </tr>\n",
       "    <tr>\n",
       "      <th>1997-05-21 00:00:00-04:00</th>\n",
       "      <td>0.071354</td>\n",
       "      <td>0.081771</td>\n",
       "      <td>0.085417</td>\n",
       "      <td>0.086458</td>\n",
       "      <td>0.097917</td>\n",
       "      <td>NaN</td>\n",
       "      <td>NaN</td>\n",
       "      <td>NaN</td>\n",
       "    </tr>\n",
       "    <tr>\n",
       "      <th>...</th>\n",
       "      <td>...</td>\n",
       "      <td>...</td>\n",
       "      <td>...</td>\n",
       "      <td>...</td>\n",
       "      <td>...</td>\n",
       "      <td>...</td>\n",
       "      <td>...</td>\n",
       "      <td>...</td>\n",
       "    </tr>\n",
       "    <tr>\n",
       "      <th>2024-06-12 00:00:00-04:00</th>\n",
       "      <td>186.889999</td>\n",
       "      <td>187.229996</td>\n",
       "      <td>187.059998</td>\n",
       "      <td>184.300003</td>\n",
       "      <td>185.000000</td>\n",
       "      <td>181.279999</td>\n",
       "      <td>179.339996</td>\n",
       "      <td>178.339996</td>\n",
       "    </tr>\n",
       "    <tr>\n",
       "      <th>2024-06-13 00:00:00-04:00</th>\n",
       "      <td>183.830002</td>\n",
       "      <td>186.889999</td>\n",
       "      <td>187.229996</td>\n",
       "      <td>187.059998</td>\n",
       "      <td>184.300003</td>\n",
       "      <td>185.000000</td>\n",
       "      <td>181.279999</td>\n",
       "      <td>179.339996</td>\n",
       "    </tr>\n",
       "    <tr>\n",
       "      <th>2024-06-14 00:00:00-04:00</th>\n",
       "      <td>183.660004</td>\n",
       "      <td>183.830002</td>\n",
       "      <td>186.889999</td>\n",
       "      <td>187.229996</td>\n",
       "      <td>187.059998</td>\n",
       "      <td>184.300003</td>\n",
       "      <td>185.000000</td>\n",
       "      <td>181.279999</td>\n",
       "    </tr>\n",
       "    <tr>\n",
       "      <th>2024-06-17 00:00:00-04:00</th>\n",
       "      <td>184.059998</td>\n",
       "      <td>183.660004</td>\n",
       "      <td>183.830002</td>\n",
       "      <td>186.889999</td>\n",
       "      <td>187.229996</td>\n",
       "      <td>187.059998</td>\n",
       "      <td>184.300003</td>\n",
       "      <td>185.000000</td>\n",
       "    </tr>\n",
       "    <tr>\n",
       "      <th>2024-06-18 00:00:00-04:00</th>\n",
       "      <td>182.809998</td>\n",
       "      <td>184.059998</td>\n",
       "      <td>183.660004</td>\n",
       "      <td>183.830002</td>\n",
       "      <td>186.889999</td>\n",
       "      <td>187.229996</td>\n",
       "      <td>187.059998</td>\n",
       "      <td>184.300003</td>\n",
       "    </tr>\n",
       "  </tbody>\n",
       "</table>\n",
       "<p>6818 rows × 8 columns</p>\n",
       "</div>"
      ],
      "text/plain": [
       "                                Close  Close(t-1)  Close(t-2)  Close(t-3)  \\\n",
       "Date                                                                        \n",
       "1997-05-15 00:00:00-04:00    0.097917         NaN         NaN         NaN   \n",
       "1997-05-16 00:00:00-04:00    0.086458    0.097917         NaN         NaN   \n",
       "1997-05-19 00:00:00-04:00    0.085417    0.086458    0.097917         NaN   \n",
       "1997-05-20 00:00:00-04:00    0.081771    0.085417    0.086458    0.097917   \n",
       "1997-05-21 00:00:00-04:00    0.071354    0.081771    0.085417    0.086458   \n",
       "...                               ...         ...         ...         ...   \n",
       "2024-06-12 00:00:00-04:00  186.889999  187.229996  187.059998  184.300003   \n",
       "2024-06-13 00:00:00-04:00  183.830002  186.889999  187.229996  187.059998   \n",
       "2024-06-14 00:00:00-04:00  183.660004  183.830002  186.889999  187.229996   \n",
       "2024-06-17 00:00:00-04:00  184.059998  183.660004  183.830002  186.889999   \n",
       "2024-06-18 00:00:00-04:00  182.809998  184.059998  183.660004  183.830002   \n",
       "\n",
       "                           Close(t-4)  Close(t-5)  Close(t-6)  Close(t-7)  \n",
       "Date                                                                       \n",
       "1997-05-15 00:00:00-04:00         NaN         NaN         NaN         NaN  \n",
       "1997-05-16 00:00:00-04:00         NaN         NaN         NaN         NaN  \n",
       "1997-05-19 00:00:00-04:00         NaN         NaN         NaN         NaN  \n",
       "1997-05-20 00:00:00-04:00         NaN         NaN         NaN         NaN  \n",
       "1997-05-21 00:00:00-04:00    0.097917         NaN         NaN         NaN  \n",
       "...                               ...         ...         ...         ...  \n",
       "2024-06-12 00:00:00-04:00  185.000000  181.279999  179.339996  178.339996  \n",
       "2024-06-13 00:00:00-04:00  184.300003  185.000000  181.279999  179.339996  \n",
       "2024-06-14 00:00:00-04:00  187.059998  184.300003  185.000000  181.279999  \n",
       "2024-06-17 00:00:00-04:00  187.229996  187.059998  184.300003  185.000000  \n",
       "2024-06-18 00:00:00-04:00  186.889999  187.229996  187.059998  184.300003  \n",
       "\n",
       "[6818 rows x 8 columns]"
      ]
     },
     "execution_count": 7,
     "metadata": {},
     "output_type": "execute_result"
    }
   ],
   "source": [
    "lookback = 7\n",
    "for i in range(lookback):\n",
    "    df[f'Close(t-{i + 1})'] = df['Close'].shift(i + 1)\n",
    "\n",
    "df"
   ]
  },
  {
   "cell_type": "code",
   "execution_count": 8,
   "metadata": {},
   "outputs": [
    {
     "data": {
      "text/html": [
       "<div>\n",
       "<style scoped>\n",
       "    .dataframe tbody tr th:only-of-type {\n",
       "        vertical-align: middle;\n",
       "    }\n",
       "\n",
       "    .dataframe tbody tr th {\n",
       "        vertical-align: top;\n",
       "    }\n",
       "\n",
       "    .dataframe thead th {\n",
       "        text-align: right;\n",
       "    }\n",
       "</style>\n",
       "<table border=\"1\" class=\"dataframe\">\n",
       "  <thead>\n",
       "    <tr style=\"text-align: right;\">\n",
       "      <th></th>\n",
       "      <th>Close</th>\n",
       "      <th>Close(t-1)</th>\n",
       "      <th>Close(t-2)</th>\n",
       "      <th>Close(t-3)</th>\n",
       "      <th>Close(t-4)</th>\n",
       "      <th>Close(t-5)</th>\n",
       "      <th>Close(t-6)</th>\n",
       "      <th>Close(t-7)</th>\n",
       "    </tr>\n",
       "    <tr>\n",
       "      <th>Date</th>\n",
       "      <th></th>\n",
       "      <th></th>\n",
       "      <th></th>\n",
       "      <th></th>\n",
       "      <th></th>\n",
       "      <th></th>\n",
       "      <th></th>\n",
       "      <th></th>\n",
       "    </tr>\n",
       "  </thead>\n",
       "  <tbody>\n",
       "    <tr>\n",
       "      <th>1997-05-27 00:00:00-04:00</th>\n",
       "      <td>0.079167</td>\n",
       "      <td>0.075000</td>\n",
       "      <td>0.069792</td>\n",
       "      <td>0.071354</td>\n",
       "      <td>0.081771</td>\n",
       "      <td>0.085417</td>\n",
       "      <td>0.086458</td>\n",
       "      <td>0.097917</td>\n",
       "    </tr>\n",
       "    <tr>\n",
       "      <th>1997-05-28 00:00:00-04:00</th>\n",
       "      <td>0.076563</td>\n",
       "      <td>0.079167</td>\n",
       "      <td>0.075000</td>\n",
       "      <td>0.069792</td>\n",
       "      <td>0.071354</td>\n",
       "      <td>0.081771</td>\n",
       "      <td>0.085417</td>\n",
       "      <td>0.086458</td>\n",
       "    </tr>\n",
       "    <tr>\n",
       "      <th>1997-05-29 00:00:00-04:00</th>\n",
       "      <td>0.075260</td>\n",
       "      <td>0.076563</td>\n",
       "      <td>0.079167</td>\n",
       "      <td>0.075000</td>\n",
       "      <td>0.069792</td>\n",
       "      <td>0.071354</td>\n",
       "      <td>0.081771</td>\n",
       "      <td>0.085417</td>\n",
       "    </tr>\n",
       "    <tr>\n",
       "      <th>1997-05-30 00:00:00-04:00</th>\n",
       "      <td>0.075000</td>\n",
       "      <td>0.075260</td>\n",
       "      <td>0.076563</td>\n",
       "      <td>0.079167</td>\n",
       "      <td>0.075000</td>\n",
       "      <td>0.069792</td>\n",
       "      <td>0.071354</td>\n",
       "      <td>0.081771</td>\n",
       "    </tr>\n",
       "    <tr>\n",
       "      <th>1997-06-02 00:00:00-04:00</th>\n",
       "      <td>0.075521</td>\n",
       "      <td>0.075000</td>\n",
       "      <td>0.075260</td>\n",
       "      <td>0.076563</td>\n",
       "      <td>0.079167</td>\n",
       "      <td>0.075000</td>\n",
       "      <td>0.069792</td>\n",
       "      <td>0.071354</td>\n",
       "    </tr>\n",
       "    <tr>\n",
       "      <th>...</th>\n",
       "      <td>...</td>\n",
       "      <td>...</td>\n",
       "      <td>...</td>\n",
       "      <td>...</td>\n",
       "      <td>...</td>\n",
       "      <td>...</td>\n",
       "      <td>...</td>\n",
       "      <td>...</td>\n",
       "    </tr>\n",
       "    <tr>\n",
       "      <th>2024-06-12 00:00:00-04:00</th>\n",
       "      <td>186.889999</td>\n",
       "      <td>187.229996</td>\n",
       "      <td>187.059998</td>\n",
       "      <td>184.300003</td>\n",
       "      <td>185.000000</td>\n",
       "      <td>181.279999</td>\n",
       "      <td>179.339996</td>\n",
       "      <td>178.339996</td>\n",
       "    </tr>\n",
       "    <tr>\n",
       "      <th>2024-06-13 00:00:00-04:00</th>\n",
       "      <td>183.830002</td>\n",
       "      <td>186.889999</td>\n",
       "      <td>187.229996</td>\n",
       "      <td>187.059998</td>\n",
       "      <td>184.300003</td>\n",
       "      <td>185.000000</td>\n",
       "      <td>181.279999</td>\n",
       "      <td>179.339996</td>\n",
       "    </tr>\n",
       "    <tr>\n",
       "      <th>2024-06-14 00:00:00-04:00</th>\n",
       "      <td>183.660004</td>\n",
       "      <td>183.830002</td>\n",
       "      <td>186.889999</td>\n",
       "      <td>187.229996</td>\n",
       "      <td>187.059998</td>\n",
       "      <td>184.300003</td>\n",
       "      <td>185.000000</td>\n",
       "      <td>181.279999</td>\n",
       "    </tr>\n",
       "    <tr>\n",
       "      <th>2024-06-17 00:00:00-04:00</th>\n",
       "      <td>184.059998</td>\n",
       "      <td>183.660004</td>\n",
       "      <td>183.830002</td>\n",
       "      <td>186.889999</td>\n",
       "      <td>187.229996</td>\n",
       "      <td>187.059998</td>\n",
       "      <td>184.300003</td>\n",
       "      <td>185.000000</td>\n",
       "    </tr>\n",
       "    <tr>\n",
       "      <th>2024-06-18 00:00:00-04:00</th>\n",
       "      <td>182.809998</td>\n",
       "      <td>184.059998</td>\n",
       "      <td>183.660004</td>\n",
       "      <td>183.830002</td>\n",
       "      <td>186.889999</td>\n",
       "      <td>187.229996</td>\n",
       "      <td>187.059998</td>\n",
       "      <td>184.300003</td>\n",
       "    </tr>\n",
       "  </tbody>\n",
       "</table>\n",
       "<p>6811 rows × 8 columns</p>\n",
       "</div>"
      ],
      "text/plain": [
       "                                Close  Close(t-1)  Close(t-2)  Close(t-3)  \\\n",
       "Date                                                                        \n",
       "1997-05-27 00:00:00-04:00    0.079167    0.075000    0.069792    0.071354   \n",
       "1997-05-28 00:00:00-04:00    0.076563    0.079167    0.075000    0.069792   \n",
       "1997-05-29 00:00:00-04:00    0.075260    0.076563    0.079167    0.075000   \n",
       "1997-05-30 00:00:00-04:00    0.075000    0.075260    0.076563    0.079167   \n",
       "1997-06-02 00:00:00-04:00    0.075521    0.075000    0.075260    0.076563   \n",
       "...                               ...         ...         ...         ...   \n",
       "2024-06-12 00:00:00-04:00  186.889999  187.229996  187.059998  184.300003   \n",
       "2024-06-13 00:00:00-04:00  183.830002  186.889999  187.229996  187.059998   \n",
       "2024-06-14 00:00:00-04:00  183.660004  183.830002  186.889999  187.229996   \n",
       "2024-06-17 00:00:00-04:00  184.059998  183.660004  183.830002  186.889999   \n",
       "2024-06-18 00:00:00-04:00  182.809998  184.059998  183.660004  183.830002   \n",
       "\n",
       "                           Close(t-4)  Close(t-5)  Close(t-6)  Close(t-7)  \n",
       "Date                                                                       \n",
       "1997-05-27 00:00:00-04:00    0.081771    0.085417    0.086458    0.097917  \n",
       "1997-05-28 00:00:00-04:00    0.071354    0.081771    0.085417    0.086458  \n",
       "1997-05-29 00:00:00-04:00    0.069792    0.071354    0.081771    0.085417  \n",
       "1997-05-30 00:00:00-04:00    0.075000    0.069792    0.071354    0.081771  \n",
       "1997-06-02 00:00:00-04:00    0.079167    0.075000    0.069792    0.071354  \n",
       "...                               ...         ...         ...         ...  \n",
       "2024-06-12 00:00:00-04:00  185.000000  181.279999  179.339996  178.339996  \n",
       "2024-06-13 00:00:00-04:00  184.300003  185.000000  181.279999  179.339996  \n",
       "2024-06-14 00:00:00-04:00  187.059998  184.300003  185.000000  181.279999  \n",
       "2024-06-17 00:00:00-04:00  187.229996  187.059998  184.300003  185.000000  \n",
       "2024-06-18 00:00:00-04:00  186.889999  187.229996  187.059998  184.300003  \n",
       "\n",
       "[6811 rows x 8 columns]"
      ]
     },
     "execution_count": 8,
     "metadata": {},
     "output_type": "execute_result"
    }
   ],
   "source": [
    "df.dropna(inplace=True)\n",
    "df"
   ]
  },
  {
   "cell_type": "code",
   "execution_count": 9,
   "metadata": {},
   "outputs": [
    {
     "data": {
      "text/plain": [
       "array([[7.91670009e-02, 7.50000030e-02, 6.97920024e-02, ...,\n",
       "        8.54170024e-02, 8.64579976e-02, 9.79169980e-02],\n",
       "       [7.65630007e-02, 7.91670009e-02, 7.50000030e-02, ...,\n",
       "        8.17710012e-02, 8.54170024e-02, 8.64579976e-02],\n",
       "       [7.52599984e-02, 7.65630007e-02, 7.91670009e-02, ...,\n",
       "        7.13540018e-02, 8.17710012e-02, 8.54170024e-02],\n",
       "       ...,\n",
       "       [1.83660004e+02, 1.83830002e+02, 1.86889999e+02, ...,\n",
       "        1.84300003e+02, 1.85000000e+02, 1.81279999e+02],\n",
       "       [1.84059998e+02, 1.83660004e+02, 1.83830002e+02, ...,\n",
       "        1.87059998e+02, 1.84300003e+02, 1.85000000e+02],\n",
       "       [1.82809998e+02, 1.84059998e+02, 1.83660004e+02, ...,\n",
       "        1.87229996e+02, 1.87059998e+02, 1.84300003e+02]])"
      ]
     },
     "execution_count": 9,
     "metadata": {},
     "output_type": "execute_result"
    }
   ],
   "source": [
    "data = df.to_numpy()\n",
    "data"
   ]
  },
  {
   "cell_type": "markdown",
   "metadata": {},
   "source": [
    "## Scale data to (-1, 1)"
   ]
  },
  {
   "cell_type": "code",
   "execution_count": 10,
   "metadata": {},
   "outputs": [
    {
     "data": {
      "text/plain": [
       "array([[-0.99991201, -0.999956  , -1.        , ..., -0.99983503,\n",
       "        -0.99982404, -0.99970306],\n",
       "       [-0.9999395 , -0.99991201, -0.99994501, ..., -0.99987353,\n",
       "        -0.99983503, -0.99982404],\n",
       "       [-0.99995326, -0.9999395 , -0.99990102, ..., -0.99998351,\n",
       "        -0.99987353, -0.99983503],\n",
       "       ...,\n",
       "       [ 0.93834111,  0.94013595,  0.97244367, ...,  0.94509855,\n",
       "         0.9524891 ,  0.91321341],\n",
       "       [ 0.94256426,  0.93834111,  0.94013628, ...,  0.97423851,\n",
       "         0.94509855,  0.9524891 ],\n",
       "       [ 0.92936671,  0.94256426,  0.93834145, ...,  0.97603334,\n",
       "         0.97423851,  0.94509855]])"
      ]
     },
     "execution_count": 10,
     "metadata": {},
     "output_type": "execute_result"
    }
   ],
   "source": [
    "scaler = MinMaxScaler(feature_range=(-1, 1))\n",
    "scaled_data = scaler.fit_transform(data)\n",
    "\n",
    "scaled_data"
   ]
  },
  {
   "cell_type": "code",
   "execution_count": 11,
   "metadata": {},
   "outputs": [
    {
     "data": {
      "text/plain": [
       "((6811, 7), (6811,))"
      ]
     },
     "execution_count": 11,
     "metadata": {},
     "output_type": "execute_result"
    }
   ],
   "source": [
    "x = scaled_data[:, 1:]\n",
    "y = scaled_data[:, 0]\n",
    "\n",
    "x = dc(np.flip(x, axis=1))\n",
    "\n",
    "x.shape, y.shape"
   ]
  },
  {
   "cell_type": "markdown",
   "metadata": {},
   "source": [
    "## Partition train and test data"
   ]
  },
  {
   "cell_type": "code",
   "execution_count": 12,
   "metadata": {},
   "outputs": [
    {
     "data": {
      "text/plain": [
       "6470"
      ]
     },
     "execution_count": 12,
     "metadata": {},
     "output_type": "execute_result"
    }
   ],
   "source": [
    "split_index = int(len(x) * 0.95)\n",
    "split_index"
   ]
  },
  {
   "cell_type": "code",
   "execution_count": 13,
   "metadata": {},
   "outputs": [
    {
     "data": {
      "text/plain": [
       "((6470, 7), (341, 7), (6470,), (341,))"
      ]
     },
     "execution_count": 13,
     "metadata": {},
     "output_type": "execute_result"
    }
   ],
   "source": [
    "x_train = x[:split_index]\n",
    "x_test = x[split_index:]\n",
    "\n",
    "y_train = y[:split_index]\n",
    "y_test = y[split_index:]\n",
    "\n",
    "x_train.shape, x_test.shape, y_train.shape, y_test.shape"
   ]
  },
  {
   "cell_type": "code",
   "execution_count": 14,
   "metadata": {},
   "outputs": [
    {
     "data": {
      "text/plain": [
       "((6470, 7, 1), (341, 7, 1), (6470, 1), (341, 1))"
      ]
     },
     "execution_count": 14,
     "metadata": {},
     "output_type": "execute_result"
    }
   ],
   "source": [
    "x_train = x_train.reshape((-1, lookback, 1))\n",
    "x_test = x_test.reshape((-1, lookback, 1))\n",
    "\n",
    "y_train = y_train.reshape((-1, 1))\n",
    "y_test = y_test.reshape((-1, 1))\n",
    "\n",
    "x_train.shape, x_test.shape, y_train.shape, y_test.shape"
   ]
  },
  {
   "cell_type": "code",
   "execution_count": 15,
   "metadata": {},
   "outputs": [
    {
     "data": {
      "text/plain": [
       "(torch.Size([6470, 7, 1]),\n",
       " torch.Size([341, 7, 1]),\n",
       " torch.Size([6470, 1]),\n",
       " torch.Size([341, 1]))"
      ]
     },
     "execution_count": 15,
     "metadata": {},
     "output_type": "execute_result"
    }
   ],
   "source": [
    "x_train = torch.tensor(x_train).float()\n",
    "x_test = torch.tensor(x_test).float()\n",
    "\n",
    "y_train = torch.tensor(y_train).float()\n",
    "y_test = torch.tensor(y_test).float()\n",
    "\n",
    "x_train.shape, x_test.shape, y_train.shape, y_test.shape"
   ]
  },
  {
   "cell_type": "code",
   "execution_count": 16,
   "metadata": {},
   "outputs": [],
   "source": [
    "class TimeSeriesDataset(Dataset):\n",
    "    def __init__(self, x, y):\n",
    "        self.x = x\n",
    "        self.y = y\n",
    "\n",
    "    def __len__(self):\n",
    "        return len(self.x)\n",
    "    \n",
    "    def __getitem__(self, i):\n",
    "        return self.x[i], self.y[i]\n",
    "    \n",
    "train_set = TimeSeriesDataset(x_train, y_train)\n",
    "test_set = TimeSeriesDataset(x_test, y_test)"
   ]
  },
  {
   "cell_type": "code",
   "execution_count": 17,
   "metadata": {},
   "outputs": [],
   "source": [
    "train_loader = DataLoader(train_set, batch_size=16, shuffle=True)\n",
    "test_loader = DataLoader(test_set, batch_size=16, shuffle=False)"
   ]
  },
  {
   "cell_type": "markdown",
   "metadata": {},
   "source": [
    "## Create LSTM class"
   ]
  },
  {
   "cell_type": "code",
   "execution_count": 18,
   "metadata": {},
   "outputs": [],
   "source": [
    "class LSTM(nn.Module):\n",
    "    def __init__(self, input, hidden, stacked):\n",
    "        super().__init__()\n",
    "\n",
    "        self.hidden = hidden\n",
    "        self.stacked = stacked\n",
    "\n",
    "        self.lstm = nn.LSTM(input, hidden, stacked, batch_first=True)\n",
    "\n",
    "        self.fc = nn.Linear(hidden, 1)\n",
    "\n",
    "    def forward(self, x):\n",
    "        batch_size = x.size(0)\n",
    "\n",
    "        h0 = torch.zeros(self.stacked, batch_size, self.hidden).to(device)\n",
    "        c0 = torch.zeros(self.stacked, batch_size, self.hidden).to(device)\n",
    "\n",
    "        x, _ = self.lstm(x, (h0, c0))\n",
    "        x = self.fc(x[:, -1, :])\n",
    "\n",
    "        return x"
   ]
  },
  {
   "cell_type": "code",
   "execution_count": 19,
   "metadata": {},
   "outputs": [
    {
     "data": {
      "text/plain": [
       "LSTM(\n",
       "  (lstm): LSTM(1, 4, batch_first=True)\n",
       "  (fc): Linear(in_features=4, out_features=1, bias=True)\n",
       ")"
      ]
     },
     "execution_count": 19,
     "metadata": {},
     "output_type": "execute_result"
    }
   ],
   "source": [
    "model = LSTM(1, 4, 1)\n",
    "model.to(device)\n",
    "model"
   ]
  },
  {
   "cell_type": "markdown",
   "metadata": {},
   "source": [
    "## Train and validate"
   ]
  },
  {
   "cell_type": "code",
   "execution_count": 20,
   "metadata": {},
   "outputs": [],
   "source": [
    "lr = 0.001\n",
    "epochs = 10\n",
    "loss_fn = nn.MSELoss()\n",
    "optimizer = torch.optim.Adam(model.parameters(), lr=lr)"
   ]
  },
  {
   "cell_type": "code",
   "execution_count": 21,
   "metadata": {},
   "outputs": [
    {
     "name": "stdout",
     "output_type": "stream",
     "text": [
      "Epoch: 1\n",
      "Train loss: 0.25081707432199224\n",
      "Test loss: 0.18394414700610054\n",
      "\n",
      "Epoch: 2\n",
      "Train loss: 0.009294804252603631\n",
      "Test loss: 0.02178948431339284\n",
      "\n",
      "Epoch: 3\n",
      "Train loss: 0.0013934916446206769\n",
      "Test loss: 0.006980441355897876\n",
      "\n",
      "Epoch: 4\n",
      "Train loss: 0.0006430562459296018\n",
      "Test loss: 0.0047359386226162314\n",
      "\n",
      "Epoch: 5\n",
      "Train loss: 0.0005603663281542623\n",
      "Test loss: 0.0037377420720242135\n",
      "\n",
      "Epoch: 6\n",
      "Train loss: 0.0004903874314078604\n",
      "Test loss: 0.0026529007207665763\n",
      "\n",
      "Epoch: 7\n",
      "Train loss: 0.00042660464592408074\n",
      "Test loss: 0.001977337093029002\n",
      "\n",
      "Epoch: 8\n",
      "Train loss: 0.0003869856085432808\n",
      "Test loss: 0.0018241068305955691\n",
      "\n",
      "Epoch: 9\n",
      "Train loss: 0.00036002463733624337\n",
      "Test loss: 0.0019510190071411091\n",
      "\n",
      "Epoch: 10\n",
      "Train loss: 0.00036135020448084645\n",
      "Test loss: 0.0011323002161754464\n",
      "\n"
     ]
    }
   ],
   "source": [
    "for epoch in range(1, epochs + 1):\n",
    "    model.train()\n",
    "    total_loss = 0\n",
    "\n",
    "    for batch_index, batch in enumerate(train_loader):\n",
    "        x_batch, y_batch = batch[0].to(device), batch[1].to(device)\n",
    "\n",
    "        output = model(x_batch)\n",
    "\n",
    "        loss = loss_fn(output, y_batch)\n",
    "        total_loss += loss.item()\n",
    "\n",
    "        optimizer.zero_grad()\n",
    "        loss.backward()\n",
    "        optimizer.step()\n",
    "\n",
    "    average_loss = total_loss / len(train_loader)\n",
    "\n",
    "    print(f'Epoch: {epoch}\\nTrain loss: {average_loss}')\n",
    "\n",
    "    model.train(False)\n",
    "    total_loss = 0\n",
    "\n",
    "    for batch_index, batch in enumerate(test_loader):\n",
    "        x_batch, y_batch = batch[0].to(device), batch[1].to(device)\n",
    "\n",
    "        with torch.no_grad():\n",
    "            output = model(x_batch)\n",
    "\n",
    "            loss = loss_fn(output, y_batch)\n",
    "            total_loss += loss.item()\n",
    "\n",
    "    average_loss = total_loss / len(test_loader)\n",
    "\n",
    "    print(f'Test loss: {average_loss}\\n')\n"
   ]
  },
  {
   "cell_type": "markdown",
   "metadata": {},
   "source": [
    "## Plot train results"
   ]
  },
  {
   "cell_type": "code",
   "execution_count": 22,
   "metadata": {},
   "outputs": [
    {
     "data": {
      "image/png": "[encoded data removed]",
      "text/plain": [
       "<Figure size 640x480 with 1 Axes>"
      ]
     },
     "metadata": {},
     "output_type": "display_data"
    }
   ],
   "source": [
    "with torch.no_grad():\n",
    "    train_predicted = model(x_train.to(device)).to('cpu').numpy()\n",
    "\n",
    "plt.plot(y_train, label='Actual closing value')\n",
    "plt.plot(train_predicted, label='Predicted closing value')\n",
    "\n",
    "plt.xlabel('Day')\n",
    "plt.ylabel('Close value')\n",
    "\n",
    "plt.legend()\n",
    "plt.show()"
   ]
  },
  {
   "cell_type": "markdown",
   "metadata": {},
   "source": [
    "## Rescale data"
   ]
  },
  {
   "cell_type": "code",
   "execution_count": 23,
   "metadata": {},
   "outputs": [
    {
     "data": {
      "text/plain": [
       "array([  0.4081248 ,   0.40827159,   0.40800625, ..., 108.05384876,\n",
       "       107.51049597, 106.32748784])"
      ]
     },
     "execution_count": 23,
     "metadata": {},
     "output_type": "execute_result"
    }
   ],
   "source": [
    "temp = np.zeros((x_train.shape[0], lookback + 1))\n",
    "temp[:, 0] = train_predicted.flatten()\n",
    "temp = scaler.inverse_transform(temp)\n",
    "\n",
    "rescaled_train_predictions = dc(temp[:, 0])\n",
    "rescaled_train_predictions"
   ]
  },
  {
   "cell_type": "code",
   "execution_count": 24,
   "metadata": {},
   "outputs": [],
   "source": [
    "temp = np.zeros((x_train.shape[0], lookback + 1))\n",
    "temp[:, 0] = y_train.flatten()\n",
    "temp = scaler.inverse_transform(temp)\n",
    "\n",
    "rescaled_y_train = dc(temp[:, 0])"
   ]
  },
  {
   "cell_type": "code",
   "execution_count": 25,
   "metadata": {},
   "outputs": [
    {
     "data": {
      "image/png": "[encoded data removed]",
      "text/plain": [
       "<Figure size 640x480 with 1 Axes>"
      ]
     },
     "metadata": {},
     "output_type": "display_data"
    }
   ],
   "source": [
    "plt.plot(rescaled_y_train, label='Actual closing value')\n",
    "plt.plot(rescaled_train_predictions, label='Predicted closing value')\n",
    "\n",
    "plt.xlabel('Day')\n",
    "plt.ylabel('Close value')\n",
    "\n",
    "plt.legend()\n",
    "plt.show()"
   ]
  },
  {
   "cell_type": "markdown",
   "metadata": {},
   "source": [
    "## Plot test results"
   ]
  },
  {
   "cell_type": "code",
   "execution_count": 26,
   "metadata": {},
   "outputs": [
    {
     "data": {
      "text/plain": [
       "array([103.81572634, 101.17244046,  99.39389601,  99.88977074,\n",
       "        99.89863971, 100.65136736, 100.8647928 , 100.5224935 ,\n",
       "        99.07540348,  97.76325615,  96.90871884,  95.98303783,\n",
       "        95.70576822,  95.5236241 ,  94.89030293,  94.20017462,\n",
       "        94.53564578,  94.76136133,  94.89928763,  95.17272681,\n",
       "        94.93533651,  94.01249798,  93.50258306,  94.00858005,\n",
       "        95.03097573,  97.25522963,  99.10546539, 100.05164213,\n",
       "       100.95354742, 100.8611515 , 100.58648162, 100.10628988,\n",
       "        99.91214922,  99.39026317,  99.62800066, 100.82029553,\n",
       "       102.31539146, 103.49502645, 104.63714192, 104.48493833,\n",
       "       103.96453138, 103.5209926 , 102.68625099, 101.51913755,\n",
       "       101.55867249, 102.1197971 , 102.76225257, 103.53958582,\n",
       "       104.6648384 , 105.09624515, 105.85030229, 106.77826688,\n",
       "       106.52576377, 106.45672582, 107.34135327, 107.40982103,\n",
       "       106.48659014, 106.08970801, 105.39020265, 104.4340843 ,\n",
       "       104.70844369, 106.06879734, 107.12774717, 108.55486084,\n",
       "       110.50103784, 111.64970766, 112.48536101, 113.42795008,\n",
       "       114.41584936, 115.90912746, 117.20580349, 117.81739541,\n",
       "       117.36144232, 116.87616124, 116.15018164, 117.10092835,\n",
       "       119.26740694, 120.87241372, 122.35124517, 123.68016789,\n",
       "       124.87100341, 125.59658219, 125.28973618, 125.05620171,\n",
       "       124.2207403 , 124.35601608, 125.13896935, 126.2421991 ,\n",
       "       127.48273699, 127.14638797, 126.78567327, 125.86421504,\n",
       "       126.69015826, 127.85483851, 128.47993429, 129.27626723,\n",
       "       129.52663637, 129.09495863, 128.8545932 , 129.62994207,\n",
       "       130.26471977, 129.95626481, 129.95124603, 129.20125641,\n",
       "       128.43276109, 128.82721286, 130.49775744, 132.64405925,\n",
       "       134.02101329, 134.72878638, 134.85977727, 133.53587898,\n",
       "       131.79581095, 130.37742511, 129.33215698, 128.33944214,\n",
       "       127.83013976, 129.26341823, 130.83526377, 132.06798838,\n",
       "       131.82567527, 131.04025495, 132.3475218 , 135.200191  ,\n",
       "       138.3779974 , 140.52510651, 141.21162456, 140.12756104,\n",
       "       138.82234348, 138.50225329, 137.93845558, 136.62915637,\n",
       "       134.8172559 , 133.68613772, 133.19671289, 134.03238318,\n",
       "       134.04870412, 133.77370397, 133.38230073, 133.36424665,\n",
       "       133.92022544, 135.32174273, 137.11631174, 137.8233227 ,\n",
       "       137.68223213, 137.47912088, 137.52651991, 138.70412819,\n",
       "       140.32840847, 142.46070398, 144.23159605, 144.0041643 ,\n",
       "       142.8571373 , 140.75419238, 138.47256398, 134.57766953,\n",
       "       131.4043456 , 129.87088334, 127.84714944, 126.59217619,\n",
       "       126.09666559, 126.28137274, 126.70845509, 126.63525646,\n",
       "       127.31655249, 126.9773243 , 126.94695754, 127.1711714 ,\n",
       "       128.08888671, 129.99279074, 131.21708108, 131.7389389 ,\n",
       "       132.05650558, 132.14370487, 131.01386821, 129.69262892,\n",
       "       128.0596321 , 126.81797077, 126.25608121, 125.2123938 ,\n",
       "       123.49804634, 123.50374823, 125.87989805, 128.75402552,\n",
       "       132.98128332, 137.2052837 , 139.08849723, 139.50355482,\n",
       "       140.69324433, 141.84969919, 141.94980394, 142.56800101,\n",
       "       142.94189213, 143.64923617, 143.96762143, 144.15952651,\n",
       "       144.49739415, 144.86283406, 145.02473368, 145.38499109,\n",
       "       146.38567727, 147.05011041, 147.31250995, 147.44510415,\n",
       "       147.35457404, 146.96936948, 146.46795376, 146.27700276,\n",
       "       146.02525614, 146.10117023, 146.51851987, 146.6806453 ,\n",
       "       147.13665484, 147.71197487, 148.22130548, 148.64926288,\n",
       "       150.38171523, 152.29586571, 153.17200244, 153.92119604,\n",
       "       154.40918693, 154.16635445, 153.85743657, 153.96716677,\n",
       "       153.74499091, 152.70801591, 151.38466523, 149.17961143,\n",
       "       147.05650668, 146.48319077, 147.61327583, 149.89626478,\n",
       "       152.61818584, 154.77277515, 155.29449748, 154.60348002,\n",
       "       154.00802839, 154.01862486, 154.38319538, 155.20835388,\n",
       "       156.29017617, 157.26775561, 158.08902441, 159.31153079,\n",
       "       160.15869517, 159.56053938, 159.18649582, 161.56384247,\n",
       "       164.80836091, 167.29049801, 169.4630172 , 170.72394638,\n",
       "       171.38893276, 171.66607817, 171.5882277 , 171.34996801,\n",
       "       171.02907053, 170.5342035 , 169.55907983, 169.11694111,\n",
       "       169.97797067, 171.31383726, 172.65742681, 173.5302666 ,\n",
       "       173.92770481, 174.27204211, 174.87583205, 175.62516114,\n",
       "       175.75204781, 175.34212191, 175.18113685, 175.00448009,\n",
       "       174.32831575, 174.0624725 , 174.53622562, 175.25302575,\n",
       "       175.43061966, 175.30078608, 175.3270712 , 175.49731476,\n",
       "       175.91574267, 176.43721096, 177.26242591, 177.65888182,\n",
       "       177.85417979, 178.13480278, 178.50337026, 178.78836282,\n",
       "       179.17872166, 179.41428283, 179.80144636, 180.62622097,\n",
       "       181.34195976, 181.96828625, 182.70819877, 183.31395331,\n",
       "       183.05172313, 182.53114682, 181.78833255, 180.6702779 ,\n",
       "       178.92175302, 177.50960538, 177.06114378, 176.72665211,\n",
       "       175.9968562 , 176.03675809, 176.97125726, 176.92880363,\n",
       "       176.80302347, 177.98169874, 179.60067232, 181.03353868,\n",
       "       182.52764666, 183.6748656 , 184.24340547, 184.43772114,\n",
       "       184.23392115, 183.92997125, 183.64767721, 183.10212552,\n",
       "       182.50319066, 182.1112511 , 181.6653864 , 181.28462479,\n",
       "       180.85573025, 180.32475506, 179.97528041, 179.91487432,\n",
       "       179.59342359, 178.74225095, 178.02000862, 177.70270164,\n",
       "       177.80746951, 178.7178627 , 179.9669026 , 181.17300336,\n",
       "       182.22028691, 182.91633445, 182.98047782, 182.54313771,\n",
       "       182.16850704])"
      ]
     },
     "execution_count": 26,
     "metadata": {},
     "output_type": "execute_result"
    }
   ],
   "source": [
    "with torch.no_grad():\n",
    "    test_predicted = model(x_test.to(device)).cpu().numpy()\n",
    "\n",
    "temp = np.zeros((x_test.shape[0], lookback + 1))\n",
    "temp[:, 0] = test_predicted.flatten()\n",
    "temp = scaler.inverse_transform(temp)\n",
    "\n",
    "rescaled_test_predictions = dc(temp[:, 0])\n",
    "rescaled_test_predictions"
   ]
  },
  {
   "cell_type": "code",
   "execution_count": 27,
   "metadata": {},
   "outputs": [],
   "source": [
    "temp = np.zeros((x_test.shape[0], lookback + 1))\n",
    "temp[:, 0] = y_test.flatten()\n",
    "temp = scaler.inverse_transform(temp)\n",
    "\n",
    "rescaled_y_test = dc(temp[:, 0])"
   ]
  },
  {
   "cell_type": "code",
   "execution_count": 28,
   "metadata": {},
   "outputs": [
    {
     "data": {
      "image/png": "[encoded data removed]",
      "text/plain": [
       "<Figure size 640x480 with 1 Axes>"
      ]
     },
     "metadata": {},
     "output_type": "display_data"
    }
   ],
   "source": [
    "plt.plot(rescaled_y_test, label='Actual closing value')\n",
    "plt.plot(rescaled_test_predictions, label='Predicted closing value')\n",
    "\n",
    "plt.xlabel('Day')\n",
    "plt.ylabel('Close value')\n",
    "\n",
    "plt.legend()\n",
    "plt.show()"
   ]
  }
 ],
 "metadata": {
  "kernelspec": {
   "display_name": "Python 3",
   "language": "python",
   "name": "python3"
  },
  "language_info": {
   "codemirror_mode": {
    "name": "ipython",
    "version": 3
   },
   "file_extension": ".py",
   "mimetype": "text/x-python",
   "name": "python",
   "nbconvert_exporter": "python",
   "pygments_lexer": "ipython3",
   "version": "3.11.0"
  }
 },
 "nbformat": 4,
 "nbformat_minor": 2
}
